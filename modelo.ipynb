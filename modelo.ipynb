{
 "cells": [
  {
   "cell_type": "code",
   "execution_count": 19,
   "metadata": {},
   "outputs": [],
   "source": [
    "import torch\n",
    "import torch.nn as nn\n",
    "import torch.optim as optim\n",
    "import numpy as np\n",
    "import random\n",
    "import pandas as pd\n",
    "from sklearn.model_selection import train_test_split, StratifiedShuffleSplit\n",
    "from sklearn.preprocessing import StandardScaler\n",
    "from sklearn.preprocessing import OneHotEncoder\n",
    "import matplotlib.pyplot as plt\n",
    "from torch.optim import Adam\n",
    "from sklearn.utils import resample\n",
    "import seaborn as sns\n",
    "from sklearn.metrics import confusion_matrix"
   ]
  },
  {
   "cell_type": "code",
   "execution_count": 2,
   "metadata": {},
   "outputs": [],
   "source": [
    "class RedMulticapa(nn.Module):\n",
    "    def __init__(self, input_size, hidden1, hidden2, hidden3, hidden4, hidden5, output_size):\n",
    "        super(RedMulticapa, self).__init__()\n",
    "        self.hidden1 = nn.Linear(input_size, hidden1)\n",
    "        self.hidden2 = nn.Linear(hidden1, hidden2)\n",
    "        self.hidden3 = nn.Linear(hidden2, hidden3)\n",
    "        self.hidden4 = nn.Linear(hidden3, hidden4)\n",
    "        self.hidden5 = nn.Linear(hidden4, hidden5)\n",
    "        self.output = nn.Linear(hidden5, output_size)\n",
    "        self.sigmoid = nn.Sigmoid()\n",
    "        self.loss = nn.BCELoss()\n",
    "        self.historial = []\n",
    "\n",
    "    def feed_forward(self, X):\n",
    "        x = self.hidden1(X)\n",
    "        x = self.sigmoid(x)\n",
    "        x = self.hidden2(x)\n",
    "        x = self.sigmoid(x)\n",
    "        x = self.hidden3(x)\n",
    "        x = self.sigmoid(x)\n",
    "        x = self.hidden4(x)\n",
    "        x = self.sigmoid(x)\n",
    "        x = self.hidden5(x)\n",
    "        x = self.output(x)\n",
    "        x = self.sigmoid(x)\n",
    "        return x\n",
    "\n",
    "    def back_propagate(self, X, Y):\n",
    "        outputs = self.feed_forward(X)\n",
    "        error = self.loss(outputs, Y)\n",
    "        self.zero_grad()\n",
    "        error.backward()\n",
    "\n",
    "    def track_progress(self, error):\n",
    "        self.historial.append(error.item())\n",
    "\n",
    "    def train(self, train_X, train_Y, optimizer, ciclos=10000):\n",
    "        for i in range(ciclos):\n",
    "            self.back_propagate(train_X, train_Y)\n",
    "            optimizer.step()\n",
    "            outputs = self.feed_forward(train_X)\n",
    "            error = self.loss(outputs, train_Y)\n",
    "            self.track_progress(error)\n",
    "\n",
    "    def confusion(self, test_X, test_Y):\n",
    "        with torch.no_grad():\n",
    "            predictions = self.feed_forward(test_X)\n",
    "            for i in range(len(predictions)):\n",
    "                if predictions[i] <= 0.5:\n",
    "                    predictions[i] = 0\n",
    "                else:\n",
    "                    predictions[i] = 1\n",
    "\n",
    "        num_classes = 2\n",
    "        confusion_matrix_result = [[0, 0], [0, 0]]\n",
    "\n",
    "        for i in range(len(test_Y)):\n",
    "            true_label = test_Y[i]\n",
    "            pred = predictions[i]\n",
    "\n",
    "            if true_label == pred:\n",
    "                if pred == 1:\n",
    "                    confusion_matrix_result[0][0] += 1\n",
    "                else:\n",
    "                    confusion_matrix_result[1][1] += 1\n",
    "            else:\n",
    "                if true_label == 1:\n",
    "                    confusion_matrix_result[1][0] += 1\n",
    "                else:\n",
    "                    confusion_matrix_result[0][1] += 1\n",
    "\n",
    "        return confusion_matrix_result"
   ]
  },
  {
   "cell_type": "code",
   "execution_count": 3,
   "metadata": {},
   "outputs": [],
   "source": [
    "def OneHot(df):\n",
    "\n",
    "    encoder = OneHotEncoder()\n",
    "\n",
    "    # 'sex' a one-hot\n",
    "    sex_columna = df[['sex']]\n",
    "    sex_one_hot = encoder.fit_transform(sex_columna)\n",
    "    sex_one_hot_df = pd.DataFrame(sex_one_hot.toarray(), columns=encoder.get_feature_names_out(['sex']))\n",
    "    df_one_hot = pd.concat([df, sex_one_hot_df], axis=1)\n",
    "    df_one_hot.drop(['sex'], axis=1, inplace=True)\n",
    "\n",
    "    # 'age' a one-hot\n",
    "    age_columna = df[['age']]\n",
    "    age_one_hot = encoder.fit_transform(age_columna)\n",
    "    age_one_hot_df = pd.DataFrame(age_one_hot.toarray(), columns=encoder.get_feature_names_out(['age']))\n",
    "    df_one_hot = pd.concat([df_one_hot, age_one_hot_df], axis=1)\n",
    "    df_one_hot.drop(['age'], axis=1, inplace=True)\n",
    "\n",
    "    # 'level of education' a one-hot\n",
    "    level_of_education_columna = df[['level of education']]\n",
    "    level_of_education_one_hot = encoder.fit_transform(level_of_education_columna)\n",
    "    level_of_education_one_hot_df = pd.DataFrame(level_of_education_one_hot.toarray(), columns=encoder.get_feature_names_out(['level of education']))\n",
    "    df_one_hot = pd.concat([df_one_hot, level_of_education_one_hot_df], axis=1)\n",
    "    df_one_hot.drop(['level of education'], axis=1, inplace=True)\n",
    "\n",
    "    return df_one_hot"
   ]
  },
  {
   "cell_type": "code",
   "execution_count": 4,
   "metadata": {},
   "outputs": [],
   "source": [
    "# Leer el archivo CSV\n",
    "df1 = pd.read_csv('df_sim.csv')\n",
    "df2 = pd.read_csv('df_sim2.csv')\n",
    "df3 = pd.read_csv('df_sim3.csv')\n",
    "df4 = pd.read_csv('df_sim4.csv')\n",
    "df5 = pd.read_csv('df_sim5.csv')\n",
    "df6 = pd.read_csv('df_sim6.csv')\n",
    "df7 = pd.read_csv('df_sim7.csv')\n",
    "df8 = pd.read_csv('df_sim8.csv')\n",
    "df9 = pd.read_csv('df_sim9.csv')\n",
    "df10 = pd.read_csv('df_sim10.csv')\n",
    "\n",
    "df = pd.concat([df1, df2, df3, df4, df5, df6, df7, df8, df9, df10], ignore_index=True)\n",
    "df = df.drop('HIVtreat', axis=1)"
   ]
  },
  {
   "cell_type": "code",
   "execution_count": 5,
   "metadata": {},
   "outputs": [],
   "source": [
    "# Convertir a one hot.\n",
    "df_one_hot = OneHot(df)\n",
    "X = df_one_hot.drop('HSV-2 infection', axis=1)  # Características.\n",
    "y = df_one_hot['HSV-2 infection']  # Variable objetivo (clase).\n",
    "\n",
    "# Dividir el conjunto de datos en entrenamiento y prueba manteniendo la proporción de clases.\n",
    "sss = StratifiedShuffleSplit(n_splits=1, test_size=0.2)\n",
    "for train_index, test_index in sss.split(X, y):\n",
    "    X_train, X_test = X.iloc[train_index], X.iloc[test_index]\n",
    "    Y_train, Y_test = y.iloc[train_index], y.iloc[test_index]"
   ]
  },
  {
   "cell_type": "code",
   "execution_count": 6,
   "metadata": {},
   "outputs": [],
   "source": [
    "# Concatenar X_train e y_train para facilitar el remuestreo.\n",
    "train_data = pd.concat([X_train, Y_train], axis=1)\n",
    "\n",
    "# Separar los datos de cada clase.\n",
    "clase_positiva = train_data[train_data['HSV-2 infection'] == 1]\n",
    "clase_negativa = train_data[train_data['HSV-2 infection'] == 0]\n",
    "\n",
    "# Igualar el número de ejemplos para cada clase en el conjunto de entrenamiento.\n",
    "n_muestras = int(min(len(clase_positiva)*(6/4), len(clase_negativa)))\n",
    "clase_positiva_muestreada = resample(clase_positiva, replace=False, n_samples=len(clase_positiva), random_state=42)\n",
    "clase_negativa_muestreada = resample(clase_negativa, replace=False, n_samples=n_muestras, random_state=42)\n",
    "\n",
    "# Concatenar los datos de las dos clases muestreadas.\n",
    "train_data_balanceado = pd.concat([clase_positiva_muestreada, clase_negativa_muestreada])\n",
    "\n",
    "# Separar características y etiquetas nuevamente.\n",
    "X_train_balanceado = train_data_balanceado.drop('HSV-2 infection', axis=1)\n",
    "Y_train_balanceado = train_data_balanceado['HSV-2 infection']\n",
    "\n",
    "# Encontrar los índices de los ejemplos que no se usaron en el conjunto de entrenamiento balanceado.\n",
    "indices_no_balanceados = train_data.index.difference(train_data_balanceado.index)\n",
    "\n",
    "# Datos de prueba sin extras.\n",
    "X_test_sin = np.copy(X_test)\n",
    "Y_test_sin = np.copy(Y_test)\n",
    "\n",
    "# Pasar los ejemplos restantes al conjunto de prueba.\n",
    "X_test = X_test.append(X_train.loc[indices_no_balanceados])\n",
    "Y_test = Y_test.append(Y_train.loc[indices_no_balanceados])\n",
    "\n",
    "# Eliminar los ejemplos restantes del conjunto de entrenamiento original.\n",
    "X_train = X_train.drop(indices_no_balanceados)\n",
    "Y_train = Y_train.drop(indices_no_balanceados)"
   ]
  },
  {
   "cell_type": "code",
   "execution_count": 7,
   "metadata": {},
   "outputs": [],
   "source": [
    "# Convertir los DataFrames de pandas a matrices numpy\n",
    "X_train = X_train.to_numpy()\n",
    "Y_train = Y_train.to_numpy()\n",
    "\n",
    "X_test = X_test.to_numpy()\n",
    "Y_test = Y_test.to_numpy()"
   ]
  },
  {
   "cell_type": "code",
   "execution_count": 8,
   "metadata": {},
   "outputs": [],
   "source": [
    "# Convertir las matrices numpy a tensores de PyTorch\n",
    "X_train = torch.tensor(X_train, dtype=torch.float32)\n",
    "Y_train = torch.tensor(Y_train, dtype=torch.float32)\n",
    "\n",
    "X_test = torch.tensor(X_test, dtype=torch.float32)\n",
    "Y_test = torch.tensor(Y_test, dtype=torch.float32)\n",
    "\n",
    "# Convertir arrays numpy a tensores PyTorch\n",
    "X_test_sin = torch.tensor(X_test_sin, dtype=torch.float32)\n",
    "Y_test_sin = torch.tensor(Y_test_sin, dtype=torch.float32)\n",
    "\n",
    "# Clonar y desvincular si es necesario (esto es opcional y depende del uso)\n",
    "X_test_sin = X_test_sin.clone().detach().float()\n",
    "Y_test_sin = Y_test_sin.clone().detach().float()"
   ]
  },
  {
   "cell_type": "code",
   "execution_count": 9,
   "metadata": {},
   "outputs": [],
   "source": [
    "input_size = 26\n",
    "hidden1 = 70\n",
    "hidden2 = 140\n",
    "hidden3= 280\n",
    "hidden4= 140\n",
    "hidden5 = 70\n",
    "output_size = 1\n",
    "\n",
    "modelo = RedMulticapa(input_size, hidden1, hidden2, hidden3, hidden4, hidden5, output_size)\n",
    "#optimizer = Adam(modelo.parameters(), lr=0.001)\n",
    "#modelo.train(X_train, Y_train.unsqueeze(1), optimizer, ciclos=40000)\n",
    "#optimizer = Adam(modelo.parameters(), lr=0.0001)\n",
    "#modelo.train(X_train, Y_train.unsqueeze(1), optimizer, ciclos=10000)\n",
    "#optimizer = Adam(modelo.parameters(), lr=0.00001)\n",
    "#modelo.train(X_train, Y_train.unsqueeze(1), optimizer, ciclos=90000)\n",
    "modelo.load_state_dict(torch.load('modelo_entrenado_BCE_sim.pth'))\n",
    "modelo.historial = np.load('historialmodelo2_sim.npy')"
   ]
  },
  {
   "cell_type": "code",
   "execution_count": 10,
   "metadata": {},
   "outputs": [],
   "source": [
    "modelo2 = RedMulticapa(input_size, hidden1, hidden2, hidden3, hidden4, hidden5, output_size)\n",
    "#optimizer = Adam(modelo2.parameters(), lr=0.001)\n",
    "#modelo.train(X_train, Y_train.unsqueeze(1), optimizer, ciclos=40000)\n",
    "#optimizer = Adam(modelo2.parameters(), lr=0.0001)\n",
    "#modelo.train(X_train, Y_train.unsqueeze(1), optimizer, ciclos=10000)\n",
    "#optimizer = Adam(modelo2.parameters(), lr=0.00001)\n",
    "#modelo.train(X_train, Y_train.unsqueeze(1), optimizer, ciclos=90000)\n",
    "modelo2.load_state_dict(torch.load('modelo_entrenado_BCE.pth'))\n",
    "modelo2.historial = np.load('historialmodelo2.npy')"
   ]
  },
  {
   "cell_type": "code",
   "execution_count": 11,
   "metadata": {},
   "outputs": [
    {
     "name": "stdout",
     "output_type": "stream",
     "text": [
      "VP Entrenamiento:  2227\n",
      "VN Entrenamiento:  3205\n",
      "FP Entrenamiento:  563\n",
      "FN Entrenamiento:  285\n",
      "VP Prueba:  553\n",
      "VN Prueba:  33865\n",
      "FP Prueba:  5947\n",
      "FN Prueba:  75\n",
      "VP Prueba sin extras:  553\n",
      "VN Prueba sin extras:  7449\n",
      "FP Prueba sin extras:  1267\n",
      "FN Prueba sin extras:  75\n",
      "Matriz de confusión con Adam\n"
     ]
    },
    {
     "data": {
      "text/plain": [
       "'\\nVP Entrenamiento:  2329\\nVN Entrenamiento:  3588\\nFP Entrenamiento:  180\\nFN Entrenamiento:  183\\nVP Prueba:  451\\nVN Prueba:  33482\\nFP Prueba:  6330\\nFN Prueba:  177\\nVP Prueba sin extras:  451\\nVN Prueba sin extras:  7323\\nFP Prueba sin extras:  1393\\nFN Prueba sin extras:  177\\nMatriz de confusión con Adam\\n'"
      ]
     },
     "execution_count": 11,
     "metadata": {},
     "output_type": "execute_result"
    }
   ],
   "source": [
    "Confusion = np.copy(np.array(modelo.confusion(X_train, Y_train)))\n",
    "print(\"VP Entrenamiento: \", Confusion[0][0])\n",
    "print(\"VN Entrenamiento: \", Confusion[1][1])\n",
    "print(\"FP Entrenamiento: \", Confusion[0][1])\n",
    "print(\"FN Entrenamiento: \", Confusion[1][0])\n",
    "\n",
    "Confusion = np.copy(np.array(modelo.confusion(X_test, Y_test)))\n",
    "print(\"VP Prueba: \", Confusion[0][0])\n",
    "print(\"VN Prueba: \", Confusion[1][1])\n",
    "print(\"FP Prueba: \", Confusion[0][1])\n",
    "print(\"FN Prueba: \", Confusion[1][0])\n",
    "\n",
    "Confusion = np.copy(np.array(modelo.confusion(X_test_sin, Y_test_sin)))\n",
    "print(\"VP Prueba sin extras: \", Confusion[0][0])\n",
    "print(\"VN Prueba sin extras: \", Confusion[1][1])\n",
    "print(\"FP Prueba sin extras: \", Confusion[0][1])\n",
    "print(\"FN Prueba sin extras: \", Confusion[1][0])\n",
    "\n",
    "print(\"Matriz de confusión con Adam\")\n",
    "\n",
    "'''\n",
    "VP Entrenamiento:  2329\n",
    "VN Entrenamiento:  3588\n",
    "FP Entrenamiento:  180\n",
    "FN Entrenamiento:  183\n",
    "VP Prueba:  451\n",
    "VN Prueba:  33482\n",
    "FP Prueba:  6330\n",
    "FN Prueba:  177\n",
    "VP Prueba sin extras:  451\n",
    "VN Prueba sin extras:  7323\n",
    "FP Prueba sin extras:  1393\n",
    "FN Prueba sin extras:  177\n",
    "Matriz de confusión con Adam\n",
    "'''"
   ]
  },
  {
   "cell_type": "code",
   "execution_count": 33,
   "metadata": {},
   "outputs": [],
   "source": [
    "# Definir los valores de la matriz de confusión\n",
    "vp_entrenamiento = 2329\n",
    "vn_entrenamiento = 3588\n",
    "fp_entrenamiento = 180\n",
    "fn_entrenamiento = 183\n",
    "\n",
    "vp_prueba = 451\n",
    "vn_prueba = 7323\n",
    "fp_prueba = 1393\n",
    "fn_prueba = 177"
   ]
  },
  {
   "cell_type": "code",
   "execution_count": 36,
   "metadata": {},
   "outputs": [],
   "source": [
    "def MatrizConfusion(vp_entrenamiento, vn_entrenamiento, fp_entrenamiento, fn_entrenamiento, vp_prueba, vn_prueba, fp_prueba, fn_prueba):  \n",
    "    # Definir los valores de la matriz de confusión\n",
    "    valores_entrenamiento = [[vp_entrenamiento, fp_entrenamiento], [fn_entrenamiento, vn_entrenamiento]]\n",
    "    valores_prueba = [[vp_prueba, fp_prueba], [fn_prueba, vn_prueba]]\n",
    "\n",
    "    # Definir las etiquetas de los ejes\n",
    "    etiquetas = ['Positivo', 'Negativo']\n",
    "\n",
    "    # Crear subgráficos para las matrices de confusión\n",
    "    fig, axs = plt.subplots(1, 2, figsize=(12, 6))\n",
    "\n",
    "    # Matriz de confusión de entrenamiento\n",
    "    sns.heatmap(valores_entrenamiento, annot=True, cmap='Blues', fmt='g', ax=axs[0], cbar=False)\n",
    "    axs[0].set_title('Matriz de Confusión - Entrenamiento')\n",
    "    axs[0].set_xticklabels(etiquetas)\n",
    "    axs[0].set_yticklabels(etiquetas, rotation=0)\n",
    "\n",
    "    # Matriz de confusión de prueba\n",
    "    sns.heatmap(valores_prueba, annot=True, cmap='Blues', fmt='g', ax=axs[1], cbar=False)\n",
    "    axs[1].set_title('Matriz de Confusión - Prueba')\n",
    "    axs[1].set_xticklabels(etiquetas)\n",
    "    axs[1].set_yticklabels(etiquetas, rotation=0)\n",
    "\n",
    "    plt.tight_layout()\n",
    "    plt.show()"
   ]
  },
  {
   "cell_type": "code",
   "execution_count": 37,
   "metadata": {},
   "outputs": [
    {
     "data": {
      "image/png": "[encoded data removed]",
      "text/plain": [
       "<Figure size 864x432 with 2 Axes>"
      ]
     },
     "metadata": {
      "needs_background": "light"
     },
     "output_type": "display_data"
    }
   ],
   "source": [
    "MatrizConfusion(vp_entrenamiento, vn_entrenamiento, fp_entrenamiento, fn_entrenamiento, vp_prueba, vn_prueba, fp_prueba, fn_prueba)"
   ]
  },
  {
   "cell_type": "code",
   "execution_count": 38,
   "metadata": {},
   "outputs": [],
   "source": [
    "def Metricas(vp_entrenamiento, vn_entrenamiento, fp_entrenamiento, fn_entrenamiento, vp_prueba, vn_prueba, fp_prueba, fn_prueba):\n",
    "    # Calcular métricas para el conjunto de entrenamiento\n",
    "    precision_entrenamiento = (vp_entrenamiento + vn_entrenamiento) / (vp_entrenamiento + vn_entrenamiento + fp_entrenamiento + fn_entrenamiento)\n",
    "    sensibilidad_entrenamiento = vp_entrenamiento / (vp_entrenamiento + fn_entrenamiento)\n",
    "    especificidad_entrenamiento = vn_entrenamiento / (vn_entrenamiento + fp_entrenamiento)\n",
    "    puntuacion_f1_entrenamiento = 2 * (precision_entrenamiento * sensibilidad_entrenamiento) / (precision_entrenamiento + sensibilidad_entrenamiento)\n",
    "\n",
    "    # Calcular métricas para el conjunto de prueba\n",
    "    precision_prueba = (vp_prueba + vn_prueba) / (vp_prueba + vn_prueba + fp_prueba + fn_prueba)\n",
    "    sensibilidad_prueba = vp_prueba / (vp_prueba + fn_prueba)\n",
    "    especificidad_prueba = vn_prueba / (vn_prueba + fp_prueba)\n",
    "    puntuacion_f1_prueba = 2 * (precision_prueba * sensibilidad_prueba) / (precision_prueba + sensibilidad_prueba)\n",
    "\n",
    "    # Imprimir métricas\n",
    "    print(\"Métricas del conjunto de entrenamiento:\")\n",
    "    print(\"Precisión (Accuracy):\", precision_entrenamiento)\n",
    "    print(\"Sensibilidad (Recall):\", sensibilidad_entrenamiento)\n",
    "    print(\"Especificidad:\", especificidad_entrenamiento)\n",
    "    print(\"Puntuación F1:\", puntuacion_f1_entrenamiento)\n",
    "    print(\"\\nMétricas del conjunto de prueba:\")\n",
    "    print(\"Precisión (Accuracy):\", precision_prueba)\n",
    "    print(\"Sensibilidad (Recall):\", sensibilidad_prueba)\n",
    "    print(\"Especificidad:\", especificidad_prueba)\n",
    "    print(\"Puntuación F1:\", puntuacion_f1_prueba)"
   ]
  },
  {
   "cell_type": "code",
   "execution_count": 39,
   "metadata": {},
   "outputs": [
    {
     "name": "stdout",
     "output_type": "stream",
     "text": [
      "Métricas del conjunto de entrenamiento:\n",
      "Precisión (Accuracy): 0.9421974522292994\n",
      "Sensibilidad (Recall): 0.9271496815286624\n",
      "Especificidad: 0.9522292993630573\n",
      "Puntuación F1: 0.9346130015085984\n",
      "\n",
      "Métricas del conjunto de prueba:\n",
      "Precisión (Accuracy): 0.8319777397260274\n",
      "Sensibilidad (Recall): 0.7181528662420382\n",
      "Especificidad: 0.8401789811840293\n",
      "Puntuación F1: 0.7708862674325235\n"
     ]
    }
   ],
   "source": [
    "Metricas(vp_entrenamiento, vn_entrenamiento, fp_entrenamiento, fn_entrenamiento, vp_prueba, vn_prueba, fp_prueba, fn_prueba)"
   ]
  },
  {
   "cell_type": "code",
   "execution_count": 12,
   "metadata": {},
   "outputs": [
    {
     "name": "stdout",
     "output_type": "stream",
     "text": [
      "VP Entrenamiento:  1360\n",
      "VN Entrenamiento:  2123\n",
      "FP Entrenamiento:  1645\n",
      "FN Entrenamiento:  1152\n",
      "VP Prueba:  353\n",
      "VN Prueba:  22317\n",
      "FP Prueba:  17495\n",
      "FN Prueba:  275\n",
      "VP Prueba sin extras:  353\n",
      "VN Prueba sin extras:  4856\n",
      "FP Prueba sin extras:  3860\n",
      "FN Prueba sin extras:  275\n",
      "Matriz de confusión con Adam\n"
     ]
    },
    {
     "data": {
      "text/plain": [
       "'\\nVP Entrenamiento:  1375\\nVN Entrenamiento:  2088\\nFP Entrenamiento:  1680\\nFN Entrenamiento:  1137\\nVP Prueba:  338\\nVN Prueba:  22352\\nFP Prueba:  17460\\nFN Prueba:  290\\nVP Prueba sin extras:  338\\nVN Prueba sin extras:  4854\\nFP Prueba sin extras:  3862\\nFN Prueba sin extras:  290\\nMatriz de confusión con Adam\\n'"
      ]
     },
     "execution_count": 12,
     "metadata": {},
     "output_type": "execute_result"
    }
   ],
   "source": [
    "Confusion = np.copy(np.array(modelo2.confusion(X_train, Y_train)))\n",
    "print(\"VP Entrenamiento: \", Confusion[0][0])\n",
    "print(\"VN Entrenamiento: \", Confusion[1][1])\n",
    "print(\"FP Entrenamiento: \", Confusion[0][1])\n",
    "print(\"FN Entrenamiento: \", Confusion[1][0])\n",
    "\n",
    "Confusion = np.copy(np.array(modelo2.confusion(X_test, Y_test)))\n",
    "print(\"VP Prueba: \", Confusion[0][0])\n",
    "print(\"VN Prueba: \", Confusion[1][1])\n",
    "print(\"FP Prueba: \", Confusion[0][1])\n",
    "print(\"FN Prueba: \", Confusion[1][0])\n",
    "\n",
    "Confusion = np.copy(np.array(modelo2.confusion(X_test_sin, Y_test_sin)))\n",
    "print(\"VP Prueba sin extras: \", Confusion[0][0])\n",
    "print(\"VN Prueba sin extras: \", Confusion[1][1])\n",
    "print(\"FP Prueba sin extras: \", Confusion[0][1])\n",
    "print(\"FN Prueba sin extras: \", Confusion[1][0])\n",
    "\n",
    "print(\"Matriz de confusión con Adam\")\n",
    "\n",
    "'''\n",
    "VP Entrenamiento:  1375\n",
    "VN Entrenamiento:  2088\n",
    "FP Entrenamiento:  1680\n",
    "FN Entrenamiento:  1137\n",
    "VP Prueba:  338\n",
    "VN Prueba:  22352\n",
    "FP Prueba:  17460\n",
    "FN Prueba:  290\n",
    "VP Prueba sin extras:  338\n",
    "VN Prueba sin extras:  4854\n",
    "FP Prueba sin extras:  3862\n",
    "FN Prueba sin extras:  290\n",
    "Matriz de confusión con Adam\n",
    "'''"
   ]
  },
  {
   "cell_type": "code",
   "execution_count": 40,
   "metadata": {},
   "outputs": [
    {
     "name": "stdout",
     "output_type": "stream",
     "text": [
      "Métricas del conjunto de entrenamiento:\n",
      "Precisión (Accuracy): 0.5514331210191082\n",
      "Sensibilidad (Recall): 0.5473726114649682\n",
      "Especificidad: 0.554140127388535\n",
      "Puntuación F1: 0.5493953636702222\n",
      "\n",
      "Métricas del conjunto de prueba:\n",
      "Precisión (Accuracy): 0.5556506849315068\n",
      "Sensibilidad (Recall): 0.5382165605095541\n",
      "Especificidad: 0.5569068379990821\n",
      "Puntuación F1: 0.5467946896390131\n"
     ]
    },
    {
     "data": {
      "image/png": "[encoded data removed]",
      "text/plain": [
       "<Figure size 864x432 with 2 Axes>"
      ]
     },
     "metadata": {
      "needs_background": "light"
     },
     "output_type": "display_data"
    }
   ],
   "source": [
    "vp_entrenamiento = 1375\n",
    "vn_entrenamiento = 2088\n",
    "fp_entrenamiento = 1680\n",
    "fn_entrenamiento = 1137\n",
    "\n",
    "vp_prueba = 338\n",
    "vn_prueba = 4854\n",
    "fp_prueba = 3862\n",
    "fn_prueba = 290\n",
    "\n",
    "Metricas(vp_entrenamiento, vn_entrenamiento, fp_entrenamiento, fn_entrenamiento, vp_prueba, vn_prueba, fp_prueba, fn_prueba)\n",
    "MatrizConfusion(vp_entrenamiento, vn_entrenamiento, fp_entrenamiento, fn_entrenamiento, vp_prueba, vn_prueba, fp_prueba, fn_prueba)"
   ]
  },
  {
   "cell_type": "code",
   "execution_count": 45,
   "metadata": {},
   "outputs": [
    {
     "data": {
      "image/png": "[encoded data removed]",
      "text/plain": [
       "<Figure size 432x288 with 1 Axes>"
      ]
     },
     "metadata": {
      "needs_background": "light"
     },
     "output_type": "display_data"
    }
   ],
   "source": [
    "plt.title(\"Evolución del error\")\n",
    "plt.xlabel(\"Iteración\")\n",
    "plt.ylabel(\"Error\")\n",
    "plt.plot(modelo.historial)\n",
    "plt.grid()\n",
    "plt.show()"
   ]
  },
  {
   "cell_type": "code",
   "execution_count": 14,
   "metadata": {},
   "outputs": [],
   "source": [
    "# Leer el archivo CSV\n",
    "df2 = pd.read_csv('dfCowanDuflo.csv')\n",
    "\n",
    "df_one_hot2 = OneHot(df2)\n",
    "\n",
    "X = df_one_hot2.drop('HSV-2 infection', axis=1)\n",
    "y = df_one_hot2['HSV-2 infection']\n",
    "\n",
    "sss = StratifiedShuffleSplit(n_splits=1, test_size=0.1)\n",
    "for train_index, test_index in sss.split(X, y):\n",
    "    X_train, X_test = X.iloc[train_index], X.iloc[test_index]\n",
    "    Y_train, Y_test = y.iloc[train_index], y.iloc[test_index]"
   ]
  },
  {
   "cell_type": "code",
   "execution_count": 15,
   "metadata": {},
   "outputs": [],
   "source": [
    "train_data = pd.concat([X_train, Y_train], axis=1)\n",
    "\n",
    "clase_positiva = train_data[train_data['HSV-2 infection'] == 1]\n",
    "clase_negativa = train_data[train_data['HSV-2 infection'] == 0]\n",
    "\n",
    "n_muestras = int(min(len(clase_positiva)*(6/4), len(clase_negativa)))\n",
    "clase_positiva_muestreada = resample(clase_positiva, replace=False, n_samples=len(clase_positiva), random_state=42)\n",
    "clase_negativa_muestreada = resample(clase_negativa, replace=False, n_samples=n_muestras, random_state=42)\n",
    "\n",
    "train_data_balanceado = pd.concat([clase_positiva_muestreada, clase_negativa_muestreada])\n",
    "\n",
    "X_train_balanceado = train_data_balanceado.drop('HSV-2 infection', axis=1)\n",
    "Y_train_balanceado = train_data_balanceado['HSV-2 infection']\n",
    "\n",
    "indices_no_balanceados = train_data.index.difference(train_data_balanceado.index)\n",
    "\n",
    "X_test_sin = np.copy(X_test)\n",
    "Y_test_sin = np.copy(Y_test)\n",
    "X_test = X_test.append(X_train.loc[indices_no_balanceados])\n",
    "Y_test = Y_test.append(Y_train.loc[indices_no_balanceados])\n",
    "\n",
    "X_train = X_train.drop(indices_no_balanceados)\n",
    "Y_train = Y_train.drop(indices_no_balanceados)\n",
    "\n",
    "X_train = X_train.to_numpy()\n",
    "Y_train = Y_train.to_numpy()\n",
    "\n",
    "X_test = X_test.to_numpy()\n",
    "Y_test = Y_test.to_numpy()\n",
    "\n",
    "# Convertir las matrices numpy a tensores de PyTorch\n",
    "X_train = torch.tensor(X_train, dtype=torch.float32)\n",
    "Y_train = torch.tensor(Y_train, dtype=torch.float32)\n",
    "\n",
    "X_test = torch.tensor(X_test, dtype=torch.float32)\n",
    "Y_test = torch.tensor(Y_test, dtype=torch.float32)\n",
    "\n",
    "# Convertir arrays numpy a tensores PyTorch\n",
    "X_test_sin = torch.tensor(X_test_sin, dtype=torch.float32)\n",
    "Y_test_sin = torch.tensor(Y_test_sin, dtype=torch.float32)\n",
    "\n",
    "# Clonar y desvincular si es necesario (esto es opcional y depende del uso)\n",
    "X_test_sin = X_test_sin.clone().detach().float()\n",
    "Y_test_sin = Y_test_sin.clone().detach().float()"
   ]
  },
  {
   "cell_type": "code",
   "execution_count": 16,
   "metadata": {},
   "outputs": [
    {
     "name": "stdout",
     "output_type": "stream",
     "text": [
      "VP Entrenamiento:  291\n",
      "VN Entrenamiento:  541\n",
      "FP Entrenamiento:  158\n",
      "FN Entrenamiento:  175\n",
      "VP Prueba:  32\n",
      "VN Prueba:  3207\n",
      "FP Prueba:  1107\n",
      "FN Prueba:  20\n",
      "VP Prueba sin extras:  32\n",
      "VN Prueba sin extras:  380\n",
      "FP Prueba sin extras:  122\n",
      "FN Prueba sin extras:  20\n",
      "Matriz de confusión con Adam\n"
     ]
    },
    {
     "data": {
      "text/plain": [
       "'\\nVP Entrenamiento:  304\\nVN Entrenamiento:  634\\nFP Entrenamiento:  65\\nFN Entrenamiento:  162\\nVP Prueba:  19\\nVN Prueba:  3114\\nFP Prueba:  1200\\nFN Prueba:  33\\nVP Prueba sin extras:  19\\nVN Prueba sin extras:  345\\nFP Prueba sin extras:  157\\nFN Prueba sin extras:  33\\nMatriz de confusión con Adam\\n'"
      ]
     },
     "execution_count": 16,
     "metadata": {},
     "output_type": "execute_result"
    }
   ],
   "source": [
    "Confusion = np.copy(np.array(modelo2.confusion(X_train, Y_train)))\n",
    "print(\"VP Entrenamiento: \", Confusion[0][0])\n",
    "print(\"VN Entrenamiento: \", Confusion[1][1])\n",
    "print(\"FP Entrenamiento: \", Confusion[0][1])\n",
    "print(\"FN Entrenamiento: \", Confusion[1][0])\n",
    "\n",
    "Confusion = np.copy(np.array(modelo2.confusion(X_test, Y_test)))\n",
    "print(\"VP Prueba: \", Confusion[0][0])\n",
    "print(\"VN Prueba: \", Confusion[1][1])\n",
    "print(\"FP Prueba: \", Confusion[0][1])\n",
    "print(\"FN Prueba: \", Confusion[1][0])\n",
    "\n",
    "Confusion = np.copy(np.array(modelo2.confusion(X_test_sin, Y_test_sin)))\n",
    "print(\"VP Prueba sin extras: \", Confusion[0][0])\n",
    "print(\"VN Prueba sin extras: \", Confusion[1][1])\n",
    "print(\"FP Prueba sin extras: \", Confusion[0][1])\n",
    "print(\"FN Prueba sin extras: \", Confusion[1][0])\n",
    "\n",
    "print(\"Matriz de confusión con Adam\")\n",
    "\n",
    "'''\n",
    "VP Entrenamiento:  304\n",
    "VN Entrenamiento:  634\n",
    "FP Entrenamiento:  65\n",
    "FN Entrenamiento:  162\n",
    "VP Prueba:  19\n",
    "VN Prueba:  3114\n",
    "FP Prueba:  1200\n",
    "FN Prueba:  33\n",
    "VP Prueba sin extras:  19\n",
    "VN Prueba sin extras:  345\n",
    "FP Prueba sin extras:  157\n",
    "FN Prueba sin extras:  33\n",
    "Matriz de confusión con Adam\n",
    "'''"
   ]
  },
  {
   "cell_type": "code",
   "execution_count": 43,
   "metadata": {},
   "outputs": [
    {
     "name": "stdout",
     "output_type": "stream",
     "text": [
      "Métricas del conjunto de entrenamiento:\n",
      "Precisión (Accuracy): 0.8051502145922746\n",
      "Sensibilidad (Recall): 0.6523605150214592\n",
      "Especificidad: 0.9070100143061517\n",
      "Puntuación F1: 0.7207469529919066\n",
      "\n",
      "Métricas del conjunto de prueba:\n",
      "Precisión (Accuracy): 0.6570397111913358\n",
      "Sensibilidad (Recall): 0.36538461538461536\n",
      "Especificidad: 0.6872509960159362\n",
      "Puntuación F1: 0.46961363482039786\n"
     ]
    },
    {
     "data": {
      "image/png": "[encoded data removed]",
      "text/plain": [
       "<Figure size 864x432 with 2 Axes>"
      ]
     },
     "metadata": {
      "needs_background": "light"
     },
     "output_type": "display_data"
    }
   ],
   "source": [
    "vp_entrenamiento = 304\n",
    "vn_entrenamiento = 634\n",
    "fp_entrenamiento = 65\n",
    "fn_entrenamiento = 162\n",
    "\n",
    "vp_prueba = 19\n",
    "vn_prueba = 345\n",
    "fp_prueba = 157\n",
    "fn_prueba = 33\n",
    "\n",
    "Metricas(vp_entrenamiento, vn_entrenamiento, fp_entrenamiento, fn_entrenamiento, vp_prueba, vn_prueba, fp_prueba, fn_prueba)\n",
    "MatrizConfusion(vp_entrenamiento, vn_entrenamiento, fp_entrenamiento, fn_entrenamiento, vp_prueba, vn_prueba, fp_prueba, fn_prueba)"
   ]
  },
  {
   "cell_type": "code",
   "execution_count": 17,
   "metadata": {},
   "outputs": [
    {
     "name": "stdout",
     "output_type": "stream",
     "text": [
      "VP Entrenamiento:  205\n",
      "VN Entrenamiento:  478\n",
      "FP Entrenamiento:  221\n",
      "FN Entrenamiento:  261\n",
      "VP Prueba:  29\n",
      "VN Prueba:  3004\n",
      "FP Prueba:  1310\n",
      "FN Prueba:  23\n",
      "VP Prueba sin extras:  29\n",
      "VN Prueba sin extras:  352\n",
      "FP Prueba sin extras:  150\n",
      "FN Prueba sin extras:  23\n",
      "Matriz de confusión con Adam\n"
     ]
    },
    {
     "data": {
      "text/plain": [
       "'\\nVP Entrenamiento:  213\\nVN Entrenamiento:  490\\nFP Entrenamiento:  209\\nFN Entrenamiento:  253\\nVP Prueba:  21\\nVN Prueba:  2992\\nFP Prueba:  1322\\nFN Prueba:  31\\nVP Prueba sin extras:  21\\nVN Prueba sin extras:  340\\nFP Prueba sin extras:  162\\nFN Prueba sin extras:  31\\nMatriz de confusión con Adam\\n'"
      ]
     },
     "execution_count": 17,
     "metadata": {},
     "output_type": "execute_result"
    }
   ],
   "source": [
    "Confusion = np.copy(np.array(modelo.confusion(X_train, Y_train)))\n",
    "print(\"VP Entrenamiento: \", Confusion[0][0])\n",
    "print(\"VN Entrenamiento: \", Confusion[1][1])\n",
    "print(\"FP Entrenamiento: \", Confusion[0][1])\n",
    "print(\"FN Entrenamiento: \", Confusion[1][0])\n",
    "\n",
    "Confusion = np.copy(np.array(modelo.confusion(X_test, Y_test)))\n",
    "print(\"VP Prueba: \", Confusion[0][0])\n",
    "print(\"VN Prueba: \", Confusion[1][1])\n",
    "print(\"FP Prueba: \", Confusion[0][1])\n",
    "print(\"FN Prueba: \", Confusion[1][0])\n",
    "\n",
    "Confusion = np.copy(np.array(modelo.confusion(X_test_sin, Y_test_sin)))\n",
    "print(\"VP Prueba sin extras: \", Confusion[0][0])\n",
    "print(\"VN Prueba sin extras: \", Confusion[1][1])\n",
    "print(\"FP Prueba sin extras: \", Confusion[0][1])\n",
    "print(\"FN Prueba sin extras: \", Confusion[1][0])\n",
    "\n",
    "print(\"Matriz de confusión con Adam\")\n",
    "\n",
    "'''\n",
    "VP Entrenamiento:  213\n",
    "VN Entrenamiento:  490\n",
    "FP Entrenamiento:  209\n",
    "FN Entrenamiento:  253\n",
    "VP Prueba:  21\n",
    "VN Prueba:  2992\n",
    "FP Prueba:  1322\n",
    "FN Prueba:  31\n",
    "VP Prueba sin extras:  21\n",
    "VN Prueba sin extras:  340\n",
    "FP Prueba sin extras:  162\n",
    "FN Prueba sin extras:  31\n",
    "Matriz de confusión con Adam\n",
    "'''"
   ]
  },
  {
   "cell_type": "code",
   "execution_count": 44,
   "metadata": {},
   "outputs": [
    {
     "name": "stdout",
     "output_type": "stream",
     "text": [
      "Métricas del conjunto de entrenamiento:\n",
      "Precisión (Accuracy): 0.6034334763948498\n",
      "Sensibilidad (Recall): 0.4570815450643777\n",
      "Especificidad: 0.7010014306151645\n",
      "Puntuación F1: 0.5201591682399961\n",
      "\n",
      "Métricas del conjunto de prueba:\n",
      "Precisión (Accuracy): 0.6516245487364621\n",
      "Sensibilidad (Recall): 0.40384615384615385\n",
      "Especificidad: 0.6772908366533864\n",
      "Puntuación F1: 0.4986515819246202\n"
     ]
    },
    {
     "data": {
      "image/png": "[encoded data removed]",
      "text/plain": [
       "<Figure size 864x432 with 2 Axes>"
      ]
     },
     "metadata": {
      "needs_background": "light"
     },
     "output_type": "display_data"
    }
   ],
   "source": [
    "vp_entrenamiento = 213\n",
    "vn_entrenamiento = 490\n",
    "fp_entrenamiento = 209\n",
    "fn_entrenamiento = 253\n",
    "\n",
    "vp_prueba = 21\n",
    "vn_prueba = 340\n",
    "fp_prueba = 162\n",
    "fn_prueba = 31\n",
    "\n",
    "Metricas(vp_entrenamiento, vn_entrenamiento, fp_entrenamiento, fn_entrenamiento, vp_prueba, vn_prueba, fp_prueba, fn_prueba)\n",
    "MatrizConfusion(vp_entrenamiento, vn_entrenamiento, fp_entrenamiento, fn_entrenamiento, vp_prueba, vn_prueba, fp_prueba, fn_prueba)"
   ]
  },
  {
   "cell_type": "code",
   "execution_count": 53,
   "metadata": {},
   "outputs": [
    {
     "data": {
      "image/png": "[encoded data removed]",
      "text/plain": [
       "<Figure size 432x288 with 1 Axes>"
      ]
     },
     "metadata": {
      "needs_background": "light"
     },
     "output_type": "display_data"
    }
   ],
   "source": [
    "plt.title(\"Evolución del error\")\n",
    "plt.xlabel(\"Iteración\")\n",
    "plt.ylabel(\"Error\")\n",
    "plt.plot(modelo2.historial[:130000])\n",
    "plt.ylim(0.35,0.7)\n",
    "plt.grid()\n",
    "plt.show()"
   ]
  }
 ],
 "metadata": {
  "kernelspec": {
   "display_name": "Python 3",
   "language": "python",
   "name": "python3"
  },
  "language_info": {
   "codemirror_mode": {
    "name": "ipython",
    "version": 3
   },
   "file_extension": ".py",
   "mimetype": "text/x-python",
   "name": "python",
   "nbconvert_exporter": "python",
   "pygments_lexer": "ipython3",
   "version": "3.9.1"
  }
 },
 "nbformat": 4,
 "nbformat_minor": 2
}
