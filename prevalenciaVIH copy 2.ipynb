{
 "cells": [
  {
   "cell_type": "code",
   "execution_count": 1,
   "metadata": {},
   "outputs": [],
   "source": [
    "import torch\n",
    "import torch.nn as nn\n",
    "import torch.optim as optim\n",
    "import numpy as np\n",
    "import random\n",
    "import pandas as pd\n",
    "from sklearn.model_selection import train_test_split, StratifiedShuffleSplit\n",
    "from sklearn.preprocessing import StandardScaler\n",
    "from sklearn.preprocessing import OneHotEncoder\n",
    "import matplotlib.pyplot as plt\n",
    "from sklearn.utils import resample\n",
    "from torch.optim import Adam"
   ]
  },
  {
   "cell_type": "code",
   "execution_count": 2,
   "metadata": {},
   "outputs": [],
   "source": [
    "class RedMulticapa(nn.Module):\n",
    "    def __init__(self, input_size, hidden1, hidden2, hidden3, hidden4, hidden5, output_size):\n",
    "        super(RedMulticapa, self).__init__()\n",
    "        self.hidden1 = nn.Linear(input_size, hidden1)\n",
    "        self.hidden2 = nn.Linear(hidden1, hidden2)\n",
    "        self.hidden3 = nn.Linear(hidden2, hidden3)\n",
    "        self.hidden4 = nn.Linear(hidden3, hidden4)\n",
    "        self.hidden5 = nn.Linear(hidden4, hidden5)\n",
    "        self.output = nn.Linear(hidden5, output_size)\n",
    "        self.sigmoid = nn.Sigmoid()\n",
    "        self.tanh = nn.Tanh()\n",
    "        self.loss = nn.BCELoss()\n",
    "        self.historial = []\n",
    "\n",
    "    def feed_forward(self, X):\n",
    "        x = self.hidden1(X)\n",
    "        x = self.sigmoid(x)\n",
    "        x = self.hidden2(x)\n",
    "        x = self.sigmoid(x)\n",
    "        x = self.hidden3(x)\n",
    "        x = self.sigmoid(x)\n",
    "        x = self.hidden4(x)\n",
    "        x = self.sigmoid(x)\n",
    "        x = self.hidden5(x)\n",
    "        x = self.output(x)\n",
    "        x = self.sigmoid(x)\n",
    "        return x\n",
    "\n",
    "    def back_propagate(self, X, Y):\n",
    "        outputs = self.feed_forward(X)\n",
    "        error = self.loss(outputs, Y)\n",
    "        self.zero_grad()\n",
    "        error.backward()\n",
    "\n",
    "    def track_progress(self, error):\n",
    "        self.historial.append(error.item())\n",
    "\n",
    "    def train(self, train_X, train_Y, optimizer, ciclos=10000):\n",
    "        for i in range(ciclos):\n",
    "            self.back_propagate(train_X, train_Y)\n",
    "            optimizer.step()\n",
    "            outputs = self.feed_forward(train_X)\n",
    "            error = self.loss(outputs, train_Y)\n",
    "            self.track_progress(error)\n",
    "\n",
    "    def confusion(self, test_X, test_Y):\n",
    "        with torch.no_grad():\n",
    "            predictions = self.feed_forward(test_X)\n",
    "            for i in range(len(predictions)):\n",
    "                if predictions[i] <= 0.5:\n",
    "                    predictions[i] = 0\n",
    "                else:\n",
    "                    predictions[i] = 1\n",
    "\n",
    "        num_classes = 2\n",
    "        confusion_matrix_result = [[0, 0], [0, 0]]\n",
    "\n",
    "        for i in range(len(test_Y)):\n",
    "            true_label = test_Y[i]\n",
    "            pred = predictions[i]\n",
    "\n",
    "            if true_label == pred:\n",
    "                if pred == 1:\n",
    "                    confusion_matrix_result[0][0] += 1\n",
    "                else:\n",
    "                    confusion_matrix_result[1][1] += 1\n",
    "            else:\n",
    "                if true_label == 1:\n",
    "                    confusion_matrix_result[1][0] += 1\n",
    "                else:\n",
    "                    confusion_matrix_result[0][1] += 1\n",
    "\n",
    "        return confusion_matrix_result"
   ]
  },
  {
   "cell_type": "code",
   "execution_count": 3,
   "metadata": {},
   "outputs": [
    {
     "name": "stdout",
     "output_type": "stream",
     "text": [
      "       sex    age level of education  ever married  HIV acquisition  \\\n",
      "0        1  21-22    None or primary             1                0   \n",
      "1        1  21-22              F3-F4             0                0   \n",
      "2        1  21-22    None or primary             0                1   \n",
      "3        1     18    None or primary             0                0   \n",
      "4        1     18              F1-F2             0                0   \n",
      "...    ...    ...                ...           ...              ...   \n",
      "46715    2  19-20              F3-F4             1                0   \n",
      "46716    2  19-20              F3-F4             1                0   \n",
      "46717    2     18              F3-F4             0                1   \n",
      "46718    2  19-20              F1-F2             0                0   \n",
      "46719    2     18              F3-F4             0                1   \n",
      "\n",
      "       HIV-testing self-efficacy  Condom self-efficacy  \\\n",
      "0                              1                     1   \n",
      "1                              1                     1   \n",
      "2                              1                     1   \n",
      "3                              0                     0   \n",
      "4                              1                     0   \n",
      "...                          ...                   ...   \n",
      "46715                          1                     0   \n",
      "46716                          1                     1   \n",
      "46717                          1                     0   \n",
      "46718                          1                     1   \n",
      "46719                          1                     0   \n",
      "\n",
      "       Control around sexual partners  Safe sex and condoms  Ever had sex  \\\n",
      "0                                   0                     0             1   \n",
      "1                                   0                     1             1   \n",
      "2                                   1                     1             0   \n",
      "3                                   0                     1             1   \n",
      "4                                   0                     1             1   \n",
      "...                               ...                   ...           ...   \n",
      "46715                               0                     0             0   \n",
      "46716                               0                     1             1   \n",
      "46717                               0                     0             1   \n",
      "46718                               0                     0             1   \n",
      "46719                               0                     0             0   \n",
      "\n",
      "       ...  Two or more partners in last 12m  Did not use condom at last sex  \\\n",
      "0      ...                                 0                               0   \n",
      "1      ...                                 0                               1   \n",
      "2      ...                                 0                               0   \n",
      "3      ...                                 1                               0   \n",
      "4      ...                                 0                               0   \n",
      "...    ...                               ...                             ...   \n",
      "46715  ...                                 0                               1   \n",
      "46716  ...                                 0                               1   \n",
      "46717  ...                                 0                               1   \n",
      "46718  ...                                 0                               0   \n",
      "46719  ...                                 0                               1   \n",
      "\n",
      "       Sought treatment for STD symptoms  Genital discharge prevalence  \\\n",
      "0                                      1                             0   \n",
      "1                                      1                             0   \n",
      "2                                      1                             0   \n",
      "3                                      1                             0   \n",
      "4                                      1                             0   \n",
      "...                                  ...                           ...   \n",
      "46715                                  0                             0   \n",
      "46716                                  1                             0   \n",
      "46717                                  0                             1   \n",
      "46718                                  1                             0   \n",
      "46719                                  1                             0   \n",
      "\n",
      "       Genital warts or sores prevalence  Rights within marriage  \\\n",
      "0                                      0                       0   \n",
      "1                                      0                       0   \n",
      "2                                      0                       0   \n",
      "3                                      0                       0   \n",
      "4                                      1                       0   \n",
      "...                                  ...                     ...   \n",
      "46715                                  0                       0   \n",
      "46716                                  0                       0   \n",
      "46717                                  0                       0   \n",
      "46718                                  1                       0   \n",
      "46719                                  0                       0   \n",
      "\n",
      "       Reported past or current pregnancy  Prevalence of any symptom of STD  \\\n",
      "0                                       0                                 0   \n",
      "1                                       0                                 1   \n",
      "2                                       0                                 0   \n",
      "3                                       0                                 1   \n",
      "4                                       0                                 0   \n",
      "...                                   ...                               ...   \n",
      "46715                                   0                                 1   \n",
      "46716                                   1                                 0   \n",
      "46717                                   1                                 1   \n",
      "46718                                   0                                 1   \n",
      "46719                                   0                                 0   \n",
      "\n",
      "       HIV infection  HSV-2 infection  \n",
      "0                  0                1  \n",
      "1                  0                1  \n",
      "2                  0                1  \n",
      "3                  0                1  \n",
      "4                  0                1  \n",
      "...              ...              ...  \n",
      "46715              0                0  \n",
      "46716              0                0  \n",
      "46717              0                0  \n",
      "46718              0                0  \n",
      "46719              0                0  \n",
      "\n",
      "[46720 rows x 22 columns]\n"
     ]
    }
   ],
   "source": [
    "# Leer el archivo CSV\n",
    "df1 = pd.read_csv('df_sim.csv')\n",
    "df2 = pd.read_csv('df_sim2.csv')\n",
    "df3 = pd.read_csv('df_sim3.csv')\n",
    "df4 = pd.read_csv('df_sim4.csv')\n",
    "df5 = pd.read_csv('df_sim5.csv')\n",
    "df6 = pd.read_csv('df_sim6.csv')\n",
    "df7 = pd.read_csv('df_sim7.csv')\n",
    "df8 = pd.read_csv('df_sim8.csv')\n",
    "df9 = pd.read_csv('df_sim9.csv')\n",
    "df10 = pd.read_csv('df_sim10.csv')\n",
    "\n",
    "df = pd.concat([df1, df2, df3, df4, df5, df6, df7, df8, df9, df10], ignore_index=True)\n",
    "df = df.drop('HIVtreat', axis=1)\n",
    "\n",
    "print(df)\n"
   ]
  },
  {
   "cell_type": "code",
   "execution_count": 4,
   "metadata": {},
   "outputs": [
    {
     "name": "stdout",
     "output_type": "stream",
     "text": [
      "       ever married  HIV acquisition  HIV-testing self-efficacy  \\\n",
      "0                 1                0                          1   \n",
      "1                 0                0                          1   \n",
      "2                 0                1                          1   \n",
      "3                 0                0                          0   \n",
      "4                 0                0                          1   \n",
      "...             ...              ...                        ...   \n",
      "46715             1                0                          1   \n",
      "46716             1                0                          1   \n",
      "46717             0                1                          1   \n",
      "46718             0                0                          1   \n",
      "46719             0                1                          1   \n",
      "\n",
      "       Condom self-efficacy  Control around sexual partners  \\\n",
      "0                         1                               0   \n",
      "1                         1                               0   \n",
      "2                         1                               1   \n",
      "3                         0                               0   \n",
      "4                         0                               0   \n",
      "...                     ...                             ...   \n",
      "46715                     0                               0   \n",
      "46716                     1                               0   \n",
      "46717                     0                               0   \n",
      "46718                     1                               0   \n",
      "46719                     0                               0   \n",
      "\n",
      "       Safe sex and condoms  Ever had sex  Two or more lifetime partners  \\\n",
      "0                         0             1                              1   \n",
      "1                         1             1                              1   \n",
      "2                         1             0                              0   \n",
      "3                         1             1                              1   \n",
      "4                         1             1                              0   \n",
      "...                     ...           ...                            ...   \n",
      "46715                     0             0                              0   \n",
      "46716                     1             1                              0   \n",
      "46717                     0             1                              0   \n",
      "46718                     0             1                              0   \n",
      "46719                     0             0                              0   \n",
      "\n",
      "       Sexual debut 17 or younger  Two or more partners in last 12m  ...  \\\n",
      "0                               0                                 0  ...   \n",
      "1                               0                                 0  ...   \n",
      "2                               1                                 0  ...   \n",
      "3                               0                                 1  ...   \n",
      "4                               0                                 0  ...   \n",
      "...                           ...                               ...  ...   \n",
      "46715                           0                                 0  ...   \n",
      "46716                           1                                 0  ...   \n",
      "46717                           0                                 0  ...   \n",
      "46718                           0                                 0  ...   \n",
      "46719                           0                                 0  ...   \n",
      "\n",
      "       HIV infection  HSV-2 infection  sex_1  sex_2  age_18  age_19-20  \\\n",
      "0                  0                1    1.0    0.0     0.0        0.0   \n",
      "1                  0                1    1.0    0.0     0.0        0.0   \n",
      "2                  0                1    1.0    0.0     0.0        0.0   \n",
      "3                  0                1    1.0    0.0     1.0        0.0   \n",
      "4                  0                1    1.0    0.0     1.0        0.0   \n",
      "...              ...              ...    ...    ...     ...        ...   \n",
      "46715              0                0    0.0    1.0     0.0        1.0   \n",
      "46716              0                0    0.0    1.0     0.0        1.0   \n",
      "46717              0                0    0.0    1.0     1.0        0.0   \n",
      "46718              0                0    0.0    1.0     0.0        1.0   \n",
      "46719              0                0    0.0    1.0     1.0        0.0   \n",
      "\n",
      "       age_21-22  level of education_F1-F2  level of education_F3-F4  \\\n",
      "0            1.0                       0.0                       0.0   \n",
      "1            1.0                       0.0                       1.0   \n",
      "2            1.0                       0.0                       0.0   \n",
      "3            0.0                       0.0                       0.0   \n",
      "4            0.0                       1.0                       0.0   \n",
      "...          ...                       ...                       ...   \n",
      "46715        0.0                       0.0                       1.0   \n",
      "46716        0.0                       0.0                       1.0   \n",
      "46717        0.0                       0.0                       1.0   \n",
      "46718        0.0                       1.0                       0.0   \n",
      "46719        0.0                       0.0                       1.0   \n",
      "\n",
      "       level of education_None or primary  \n",
      "0                                     1.0  \n",
      "1                                     0.0  \n",
      "2                                     1.0  \n",
      "3                                     1.0  \n",
      "4                                     0.0  \n",
      "...                                   ...  \n",
      "46715                                 0.0  \n",
      "46716                                 0.0  \n",
      "46717                                 0.0  \n",
      "46718                                 0.0  \n",
      "46719                                 0.0  \n",
      "\n",
      "[46720 rows x 27 columns]\n"
     ]
    }
   ],
   "source": [
    "# 'sex' a one-hot\n",
    "sex_columna = df[['sex']]\n",
    "# Crear un codificador OneHotEncoder\n",
    "encoder = OneHotEncoder()\n",
    "# Ajustar el codificador a los datos y transformar la columna\n",
    "sex_one_hot = encoder.fit_transform(sex_columna)\n",
    "# Convertir la matriz de one-hot en un DataFrame\n",
    "sex_one_hot_df = pd.DataFrame(sex_one_hot.toarray(), columns=encoder.get_feature_names_out(['sex']))\n",
    "# Concatenar el DataFrame original con el DataFrame de one-hot\n",
    "df_one_hot = pd.concat([df, sex_one_hot_df], axis=1)\n",
    "# Imprimir el DataFrame resultante\n",
    "df_one_hot.drop(['sex'], axis=1, inplace=True)\n",
    "\n",
    "# 'age' a one-hot\n",
    "age_columna = df[['age']]\n",
    "# Crear un codificador OneHotEncoder\n",
    "encoder = OneHotEncoder()\n",
    "# Ajustar el codificador a los datos y transformar la columna\n",
    "age_one_hot = encoder.fit_transform(age_columna)\n",
    "# Convertir la matriz de one-hot en un DataFrame\n",
    "age_one_hot_df = pd.DataFrame(age_one_hot.toarray(), columns=encoder.get_feature_names_out(['age']))\n",
    "# Concatenar el DataFrame original con el DataFrame de one-hot\n",
    "df_one_hot = pd.concat([df_one_hot, age_one_hot_df], axis=1)\n",
    "# Imprimir el DataFrame resultante\n",
    "df_one_hot.drop(['age'], axis=1, inplace=True)\n",
    "\n",
    "# 'level of education' a one-hot\n",
    "level_of_education_columna = df[['level of education']]\n",
    "# Crear un codificador OneHotEncoder\n",
    "encoder = OneHotEncoder()\n",
    "# Ajustar el codificador a los datos y transformar la columna\n",
    "level_of_education_one_hot = encoder.fit_transform(level_of_education_columna)\n",
    "# Convertir la matriz de one-hot en un DataFrame\n",
    "level_of_education_one_hot_df = pd.DataFrame(level_of_education_one_hot.toarray(), columns=encoder.get_feature_names_out(['level of education']))\n",
    "# Concatenar el DataFrame original con el DataFrame de one-hot\n",
    "df_one_hot = pd.concat([df_one_hot, level_of_education_one_hot_df], axis=1)\n",
    "# Imprimir el DataFrame resultante\n",
    "df_one_hot.drop(['level of education'], axis=1, inplace=True)\n",
    "print(df_one_hot)"
   ]
  },
  {
   "cell_type": "code",
   "execution_count": 5,
   "metadata": {},
   "outputs": [
    {
     "name": "stdout",
     "output_type": "stream",
     "text": [
      "Forma de X_train: (37376, 26)\n",
      "Forma de X_test: (9344, 26)\n",
      "Forma de y_train: (37376,)\n",
      "Forma de y_test: (9344,)\n"
     ]
    }
   ],
   "source": [
    "# Supongamos que tu DataFrame en one-hot se llama df_one_hot y la columna de la clase se llama 'clase'\n",
    "X = df_one_hot.drop('HSV-2 infection', axis=1)  # Características (variables independientes)\n",
    "y = df_one_hot['HSV-2 infection']  # Variable objetivo (clase)\n",
    "\n",
    "# Dividir el conjunto de datos en entrenamiento y prueba manteniendo la proporción de clases\n",
    "sss = StratifiedShuffleSplit(n_splits=1, test_size=0.2)\n",
    "for train_index, test_index in sss.split(X, y):\n",
    "    X_train, X_test = X.iloc[train_index], X.iloc[test_index]\n",
    "    Y_train, Y_test = y.iloc[train_index], y.iloc[test_index]\n",
    "\n",
    "# Imprimir las formas de los conjuntos de entrenamiento y prueba\n",
    "print(\"Forma de X_train:\", X_train.shape)\n",
    "print(\"Forma de X_test:\", X_test.shape)\n",
    "print(\"Forma de y_train:\", Y_train.shape)\n",
    "print(\"Forma de y_test:\", Y_test.shape)"
   ]
  },
  {
   "cell_type": "code",
   "execution_count": 6,
   "metadata": {},
   "outputs": [
    {
     "name": "stdout",
     "output_type": "stream",
     "text": [
      "Forma de X_train_balanceado: (6280, 26)\n",
      "Forma de X_test: (40440, 26)\n",
      "Forma de y_train_balanceado: (6280,)\n",
      "Forma de y_test: (40440,)\n",
      "(9344, 26)\n"
     ]
    }
   ],
   "source": [
    "# Concatenar X_train e y_train para facilitar el remuestreo\n",
    "train_data = pd.concat([X_train, Y_train], axis=1)\n",
    "\n",
    "# Separar los datos de cada clase\n",
    "clase_positiva = train_data[train_data['HSV-2 infection'] == 1]\n",
    "clase_negativa = train_data[train_data['HSV-2 infection'] == 0]\n",
    "\n",
    "# Igualar el número de ejemplos para cada clase en el conjunto de entrenamiento\n",
    "n_muestras = int(min(len(clase_positiva)*(6/4), len(clase_negativa)))\n",
    "clase_positiva_muestreada = resample(clase_positiva, replace=False, n_samples=len(clase_positiva), random_state=42)\n",
    "clase_negativa_muestreada = resample(clase_negativa, replace=False, n_samples=n_muestras, random_state=42)\n",
    "\n",
    "# Concatenar los datos de las dos clases muestreadas\n",
    "train_data_balanceado = pd.concat([clase_positiva_muestreada, clase_negativa_muestreada])\n",
    "\n",
    "# Separar características y etiquetas nuevamente\n",
    "X_train_balanceado = train_data_balanceado.drop('HSV-2 infection', axis=1)\n",
    "Y_train_balanceado = train_data_balanceado['HSV-2 infection']\n",
    "\n",
    "# Encontrar los índices de los ejemplos que no se usaron en el conjunto de entrenamiento balanceado\n",
    "indices_no_balanceados = train_data.index.difference(train_data_balanceado.index)\n",
    "\n",
    "# Pasar los ejemplos restantes al conjunto de prueba\n",
    "X_test_sin = np.copy(X_test)\n",
    "Y_test_sin = np.copy(Y_test)\n",
    "X_test = X_test.append(X_train.loc[indices_no_balanceados])\n",
    "Y_test = Y_test.append(Y_train.loc[indices_no_balanceados])\n",
    "\n",
    "# Eliminar los ejemplos restantes del conjunto de entrenamiento original\n",
    "X_train = X_train.drop(indices_no_balanceados)\n",
    "Y_train = Y_train.drop(indices_no_balanceados)\n",
    "\n",
    "# Imprimir las formas de los conjuntos de entrenamiento y prueba balanceados\n",
    "print(\"Forma de X_train_balanceado:\", X_train.shape)\n",
    "print(\"Forma de X_test:\", X_test.shape)\n",
    "print(\"Forma de y_train_balanceado:\", Y_train.shape)\n",
    "print(\"Forma de y_test:\", Y_test.shape)\n",
    "print(X_test_sin.shape)"
   ]
  },
  {
   "cell_type": "code",
   "execution_count": 7,
   "metadata": {},
   "outputs": [
    {
     "data": {
      "text/plain": [
       "'\\nmax_samples = max(pd.Series(Y_train).value_counts())\\n\\nprint(np.unique(Y_train))\\n\\nfor label in np.unique(Y_train):\\n    label_indices = np.where(Y_train == label)[0]\\n    while len(label_indices) < max_samples:\\n        label_indices = np.concatenate((label_indices, np.random.choice(label_indices, max_samples - len(label_indices))))\\n    np.random.shuffle(label_indices)\\n    if label == np.unique(Y_train)[0]:\\n        train_indices = label_indices\\n    else:\\n        train_indices = np.concatenate((train_indices, label_indices))\\n\\nX_train = X_train.iloc[train_indices]\\nY_train = Y_train.iloc[train_indices]\\n\\nprint(\"Forma de X_train:\", X_train.shape)\\nprint(\"Forma de X_test:\", X_test.shape)\\nprint(\"Forma de y_train:\", Y_train.shape)\\nprint(\"Forma de y_test:\", Y_test.shape)\\n'"
      ]
     },
     "execution_count": 7,
     "metadata": {},
     "output_type": "execute_result"
    }
   ],
   "source": [
    "'''\n",
    "max_samples = max(pd.Series(Y_train).value_counts())\n",
    "\n",
    "print(np.unique(Y_train))\n",
    "\n",
    "for label in np.unique(Y_train):\n",
    "    label_indices = np.where(Y_train == label)[0]\n",
    "    while len(label_indices) < max_samples:\n",
    "        label_indices = np.concatenate((label_indices, np.random.choice(label_indices, max_samples - len(label_indices))))\n",
    "    np.random.shuffle(label_indices)\n",
    "    if label == np.unique(Y_train)[0]:\n",
    "        train_indices = label_indices\n",
    "    else:\n",
    "        train_indices = np.concatenate((train_indices, label_indices))\n",
    "\n",
    "X_train = X_train.iloc[train_indices]\n",
    "Y_train = Y_train.iloc[train_indices]\n",
    "\n",
    "print(\"Forma de X_train:\", X_train.shape)\n",
    "print(\"Forma de X_test:\", X_test.shape)\n",
    "print(\"Forma de y_train:\", Y_train.shape)\n",
    "print(\"Forma de y_test:\", Y_test.shape)\n",
    "'''\n"
   ]
  },
  {
   "cell_type": "code",
   "execution_count": 8,
   "metadata": {},
   "outputs": [],
   "source": [
    "# Convertir los DataFrames de pandas a matrices numpy\n",
    "X_train = X_train.to_numpy()\n",
    "Y_train = Y_train.to_numpy()\n",
    "\n",
    "X_test = X_test.to_numpy()\n",
    "Y_test = Y_test.to_numpy()"
   ]
  },
  {
   "cell_type": "code",
   "execution_count": 9,
   "metadata": {},
   "outputs": [],
   "source": [
    "# Convertir las matrices numpy a tensores de PyTorch\n",
    "X_train = torch.tensor(X_train, dtype=torch.float32)\n",
    "Y_train = torch.tensor(Y_train, dtype=torch.float32)\n",
    "\n",
    "X_test = torch.tensor(X_test, dtype=torch.float32)\n",
    "Y_test = torch.tensor(Y_test, dtype=torch.float32)\n",
    "\n",
    "# Convertir arrays numpy a tensores PyTorch\n",
    "X_test_sin = torch.tensor(X_test_sin, dtype=torch.float32)\n",
    "Y_test_sin = torch.tensor(Y_test_sin, dtype=torch.float32)\n",
    "\n",
    "# Clonar y desvincular si es necesario (esto es opcional y depende del uso)\n",
    "X_test_sin = X_test_sin.clone().detach().float()\n",
    "Y_test_sin = Y_test_sin.clone().detach().float()"
   ]
  },
  {
   "cell_type": "code",
   "execution_count": 10,
   "metadata": {},
   "outputs": [
    {
     "name": "stdout",
     "output_type": "stream",
     "text": [
      "RedMulticapa(\n",
      "  (hidden1): Linear(in_features=26, out_features=70, bias=True)\n",
      "  (hidden2): Linear(in_features=70, out_features=140, bias=True)\n",
      "  (hidden3): Linear(in_features=140, out_features=280, bias=True)\n",
      "  (hidden4): Linear(in_features=280, out_features=140, bias=True)\n",
      "  (hidden5): Linear(in_features=140, out_features=70, bias=True)\n",
      "  (output): Linear(in_features=70, out_features=1, bias=True)\n",
      "  (sigmoid): Sigmoid()\n",
      "  (tanh): Tanh()\n",
      "  (loss): BCELoss()\n",
      ")\n"
     ]
    }
   ],
   "source": [
    "input_size = 26\n",
    "hidden1 = 70\n",
    "hidden2 = 140\n",
    "hidden3= 280\n",
    "hidden4= 140\n",
    "hidden5 = 70\n",
    "output_size = 1\n",
    "\n",
    "'''\n",
    "input_size = 26\n",
    "hidden1 = 52\n",
    "hidden2 = 60  \n",
    "hidden3= 70\n",
    "hidden4= 40\n",
    "hidden5 = 26\n",
    "output_size = 2\n",
    "'''\n",
    "\n",
    "modelo2 = RedMulticapa(input_size, hidden1, hidden2, hidden3, hidden4, hidden5, output_size)\n",
    "#modelo2.load_state_dict(torch.load('modelo_entrenado_BCE.pth'))\n",
    "print(modelo2)\n",
    "optimizer = Adam(modelo2.parameters(), lr=0.001)\n",
    "modelo2.train(X_train, Y_train.unsqueeze(1), optimizer, ciclos=40000)"
   ]
  },
  {
   "cell_type": "code",
   "execution_count": 50,
   "metadata": {},
   "outputs": [],
   "source": [
    "optimizer = Adam(modelo2.parameters(), lr=0.00001)\n",
    "modelo2.train(X_train, Y_train.unsqueeze(1), optimizer, ciclos=10000)"
   ]
  },
  {
   "cell_type": "code",
   "execution_count": 12,
   "metadata": {},
   "outputs": [],
   "source": [
    "#optimizer = Adam(modelo2.parameters())\n",
    "#modelo2.train(X_train, Y_train.unsqueeze(1), optimizer, ciclos=5000)"
   ]
  },
  {
   "cell_type": "code",
   "execution_count": 138,
   "metadata": {},
   "outputs": [
    {
     "name": "stdout",
     "output_type": "stream",
     "text": [
      "VP Entrenamiento:  2329\n",
      "VN Entrenamiento:  3588\n",
      "FP Entrenamiento:  180\n",
      "FN Entrenamiento:  183\n",
      "VP Prueba:  451\n",
      "VN Prueba:  33482\n",
      "FP Prueba:  6330\n",
      "FN Prueba:  177\n",
      "VP Prueba sin extras:  451\n",
      "VN Prueba sin extras:  7323\n",
      "FP Prueba sin extras:  1393\n",
      "FN Prueba sin extras:  177\n",
      "Matriz de confusión con Adam\n"
     ]
    }
   ],
   "source": [
    "Confusion = np.copy(np.array(modelo2.confusion(X_train, Y_train)))\n",
    "print(\"VP Entrenamiento: \", Confusion[0][0])\n",
    "print(\"VN Entrenamiento: \", Confusion[1][1])\n",
    "print(\"FP Entrenamiento: \", Confusion[0][1])\n",
    "print(\"FN Entrenamiento: \", Confusion[1][0])\n",
    "\n",
    "Confusion = np.copy(np.array(modelo2.confusion(X_test, Y_test)))\n",
    "print(\"VP Prueba: \", Confusion[0][0])\n",
    "print(\"VN Prueba: \", Confusion[1][1])\n",
    "print(\"FP Prueba: \", Confusion[0][1])\n",
    "print(\"FN Prueba: \", Confusion[1][0])\n",
    "\n",
    "Confusion = np.copy(np.array(modelo2.confusion(X_test_sin, Y_test_sin)))\n",
    "print(\"VP Prueba sin extras: \", Confusion[0][0])\n",
    "print(\"VN Prueba sin extras: \", Confusion[1][1])\n",
    "print(\"FP Prueba sin extras: \", Confusion[0][1])\n",
    "print(\"FN Prueba sin extras: \", Confusion[1][0])\n",
    "\n",
    "print(\"Matriz de confusión con Adam\")"
   ]
  },
  {
   "cell_type": "code",
   "execution_count": 147,
   "metadata": {},
   "outputs": [
    {
     "name": "stdout",
     "output_type": "stream",
     "text": [
      "RedMulticapa(\n",
      "  (hidden1): Linear(in_features=26, out_features=70, bias=True)\n",
      "  (hidden2): Linear(in_features=70, out_features=140, bias=True)\n",
      "  (hidden3): Linear(in_features=140, out_features=280, bias=True)\n",
      "  (hidden4): Linear(in_features=280, out_features=140, bias=True)\n",
      "  (hidden5): Linear(in_features=140, out_features=70, bias=True)\n",
      "  (output): Linear(in_features=70, out_features=1, bias=True)\n",
      "  (sigmoid): Sigmoid()\n",
      "  (tanh): Tanh()\n",
      "  (loss): BCELoss()\n",
      ")\n"
     ]
    }
   ],
   "source": [
    "input_size = 26\n",
    "hidden1 = 70\n",
    "hidden2 = 140\n",
    "hidden3= 280\n",
    "hidden4= 140\n",
    "hidden5 = 70\n",
    "output_size = 1\n",
    "\n",
    "modelo2_reales = RedMulticapa(input_size, hidden1, hidden2, hidden3, hidden4, hidden5, output_size)\n",
    "modelo2_reales.load_state_dict(torch.load('modelo_entrenado_BCE.pth'))\n",
    "print(modelo2_reales)"
   ]
  },
  {
   "cell_type": "code",
   "execution_count": 148,
   "metadata": {},
   "outputs": [
    {
     "name": "stdout",
     "output_type": "stream",
     "text": [
      "VP Entrenamiento:  1375\n",
      "VN Entrenamiento:  2088\n",
      "FP Entrenamiento:  1680\n",
      "FN Entrenamiento:  1137\n",
      "VP Prueba:  338\n",
      "VN Prueba:  22352\n",
      "FP Prueba:  17460\n",
      "FN Prueba:  290\n",
      "VP Prueba sin extras:  338\n",
      "VN Prueba sin extras:  4854\n",
      "FP Prueba sin extras:  3862\n",
      "FN Prueba sin extras:  290\n",
      "Matriz de confusión con Adam\n"
     ]
    }
   ],
   "source": [
    "Confusion = np.copy(np.array(modelo2_reales.confusion(X_train, Y_train)))\n",
    "print(\"VP Entrenamiento: \", Confusion[0][0])\n",
    "print(\"VN Entrenamiento: \", Confusion[1][1])\n",
    "print(\"FP Entrenamiento: \", Confusion[0][1])\n",
    "print(\"FN Entrenamiento: \", Confusion[1][0])\n",
    "\n",
    "Confusion = np.copy(np.array(modelo2_reales.confusion(X_test, Y_test)))\n",
    "print(\"VP Prueba: \", Confusion[0][0])\n",
    "print(\"VN Prueba: \", Confusion[1][1])\n",
    "print(\"FP Prueba: \", Confusion[0][1])\n",
    "print(\"FN Prueba: \", Confusion[1][0])\n",
    "\n",
    "Confusion = np.copy(np.array(modelo2_reales.confusion(X_test_sin, Y_test_sin)))\n",
    "print(\"VP Prueba sin extras: \", Confusion[0][0])\n",
    "print(\"VN Prueba sin extras: \", Confusion[1][1])\n",
    "print(\"FP Prueba sin extras: \", Confusion[0][1])\n",
    "print(\"FN Prueba sin extras: \", Confusion[1][0])\n",
    "\n",
    "print(\"Matriz de confusión con Adam\")"
   ]
  },
  {
   "cell_type": "code",
   "execution_count": 52,
   "metadata": {},
   "outputs": [
    {
     "data": {
      "text/plain": [
       "[<matplotlib.lines.Line2D at 0x26aed1ff940>]"
      ]
     },
     "execution_count": 52,
     "metadata": {},
     "output_type": "execute_result"
    },
    {
     "data": {
      "image/png": "[encoded data removed]",
      "text/plain": [
       "<Figure size 432x288 with 1 Axes>"
      ]
     },
     "metadata": {
      "needs_background": "light"
     },
     "output_type": "display_data"
    }
   ],
   "source": [
    "plt.plot(modelo2.historial)"
   ]
  },
  {
   "cell_type": "code",
   "execution_count": 54,
   "metadata": {},
   "outputs": [
    {
     "name": "stdout",
     "output_type": "stream",
     "text": [
      "7085\n"
     ]
    }
   ],
   "source": [
    "prob = modelo2.feed_forward(X_test)\n",
    "\n",
    "infectados = 0\n",
    "\n",
    "for i in prob:\n",
    "    if np.random.uniform(0, 1) <= i:\n",
    "        infectados = infectados + 1\n",
    "    \n",
    "print(infectados)"
   ]
  },
  {
   "cell_type": "code",
   "execution_count": 55,
   "metadata": {},
   "outputs": [],
   "source": [
    "torch.save(modelo2.state_dict(), 'modelo_entrenado_BCE_sim.pth')\n",
    "np.save('historialmodelo2_sim.npy', modelo2.historial)"
   ]
  },
  {
   "cell_type": "code",
   "execution_count": 62,
   "metadata": {},
   "outputs": [
    {
     "name": "stdout",
     "output_type": "stream",
     "text": [
      "Index(['ever married', 'HIV acquisition', 'HIV-testing self-efficacy',\n",
      "       'Condom self-efficacy', 'Control around sexual partners',\n",
      "       'Safe sex and condoms', 'Ever had sex', 'Two or more lifetime partners',\n",
      "       'Sexual debut 17 or younger', 'Two or more partners in last 12m',\n",
      "       'Did not use condom at last sex', 'Sought treatment for STD symptoms',\n",
      "       'Genital discharge prevalence', 'Genital warts or sores prevalence',\n",
      "       'Rights within marriage', 'Reported past or current pregnancy',\n",
      "       'Prevalence of any symptom of STD', 'HIV infection', 'HSV-2 infection',\n",
      "       'sex_1', 'sex_2', 'age_18', 'age_19-20', 'age_21-22',\n",
      "       'level of education_F1-F2', 'level of education_F3-F4',\n",
      "       'level of education_None or primary'],\n",
      "      dtype='object')\n"
     ]
    }
   ],
   "source": [
    "columnas_categoricas = df_one_hot.columns\n",
    "print(columnas_categoricas)"
   ]
  },
  {
   "cell_type": "code",
   "execution_count": 63,
   "metadata": {},
   "outputs": [
    {
     "name": "stdout",
     "output_type": "stream",
     "text": [
      "Index(['ever married', 'HIV acquisition', 'HIV-testing self-efficacy',\n",
      "       'Condom self-efficacy', 'Control around sexual partners',\n",
      "       'Safe sex and condoms', 'Ever had sex', 'Two or more lifetime partners',\n",
      "       'Sexual debut 17 or younger', 'Two or more partners in last 12m',\n",
      "       'Did not use condom at last sex', 'Sought treatment for STD symptoms',\n",
      "       'Genital discharge prevalence', 'Genital warts or sores prevalence',\n",
      "       'Rights within marriage', 'Reported past or current pregnancy',\n",
      "       'Prevalence of any symptom of STD', 'HIV infection', 'HSV-2 infection',\n",
      "       'sex_1', 'sex_2', 'age_18', 'age_19-20', 'age_21-22',\n",
      "       'level of education_F1-F2', 'level of education_F3-F4',\n",
      "       'level of education_None or primary'],\n",
      "      dtype='object')\n"
     ]
    }
   ],
   "source": [
    "# Lista de columnas categóricas\n",
    "print(columnas_categoricas)\n"
   ]
  },
  {
   "cell_type": "code",
   "execution_count": 129,
   "metadata": {},
   "outputs": [
    {
     "name": "stdout",
     "output_type": "stream",
     "text": [
      "Tensor aleatorio de PyTorch:\n",
      "tensor([0., 1., 0., 1., 1., 1., 0., 0., 1., 0., 0., 0., 1., 0., 0., 1., 0., 1.,\n",
      "        1., 0., 1., 0., 0., 0., 1., 1.])\n"
     ]
    },
    {
     "name": "stderr",
     "output_type": "stream",
     "text": [
      "C:\\Users\\david\\AppData\\Local\\Temp/ipykernel_19240/3487982867.py:11: UserWarning: To copy construct from a tensor, it is recommended to use sourceTensor.clone().detach() or sourceTensor.clone().detach().requires_grad_(True), rather than torch.tensor(sourceTensor).\n",
      "  tensor = torch.tensor(tensor, dtype=torch.float32)\n"
     ]
    }
   ],
   "source": [
    "# Lista de valores binarios\n",
    "#valores_binarios = [0, 1, 1, 1, 1, 1, 1, 1, 0, 0, 0, 1, 0, 0, 1, 0, 0, 0, 1, 0, 0, 1, 0, 0, 1, 0]\n",
    "# Crear un tensor aleatorio de 0 y 1 con la longitud especificada\n",
    "tensor = torch.randint(0, 2, (26,), dtype=torch.float32)\n",
    "\n",
    "# Mostrar el tensor\n",
    "print(\"Tensor aleatorio de PyTorch:\")\n",
    "print(tensor)\n",
    "\n",
    "# Convertir la lista a un tensor de PyTorch\n",
    "tensor = torch.tensor(tensor, dtype=torch.float32)"
   ]
  },
  {
   "cell_type": "code",
   "execution_count": 133,
   "metadata": {},
   "outputs": [
    {
     "name": "stdout",
     "output_type": "stream",
     "text": [
      "tensor([[0.0301],\n",
      "        [1.0000],\n",
      "        [0.0000],\n",
      "        ...,\n",
      "        [0.0000],\n",
      "        [0.0000],\n",
      "        [0.1996]], grad_fn=<SigmoidBackward0>)\n"
     ]
    }
   ],
   "source": [
    "prob = modelo2.feed_forward(X_test)\n",
    "\n",
    "print(prob)"
   ]
  }
 ],
 "metadata": {
  "kernelspec": {
   "display_name": "Python 3",
   "language": "python",
   "name": "python3"
  },
  "language_info": {
   "codemirror_mode": {
    "name": "ipython",
    "version": 3
   },
   "file_extension": ".py",
   "mimetype": "text/x-python",
   "name": "python",
   "nbconvert_exporter": "python",
   "pygments_lexer": "ipython3",
   "version": "3.9.1"
  }
 },
 "nbformat": 4,
 "nbformat_minor": 2
}
