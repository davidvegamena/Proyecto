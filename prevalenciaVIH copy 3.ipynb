{
 "cells": [
  {
   "cell_type": "code",
   "execution_count": 21,
   "metadata": {},
   "outputs": [],
   "source": [
    "import torch\n",
    "import torch.nn as nn\n",
    "import torch.optim as optim\n",
    "import numpy as np\n",
    "import random\n",
    "import pandas as pd\n",
    "from sklearn.model_selection import train_test_split, StratifiedShuffleSplit\n",
    "from sklearn.preprocessing import StandardScaler\n",
    "from sklearn.preprocessing import OneHotEncoder\n",
    "import matplotlib.pyplot as plt\n",
    "from sklearn.utils import resample\n",
    "from torch.optim import Adam"
   ]
  },
  {
   "cell_type": "code",
   "execution_count": 22,
   "metadata": {},
   "outputs": [],
   "source": [
    "class RedMulticapa(nn.Module):\n",
    "    def __init__(self, input_size, hidden1, hidden2, hidden3, hidden4, output_size):\n",
    "        super(RedMulticapa, self).__init__()\n",
    "        self.hidden1 = nn.Linear(input_size, hidden1)\n",
    "        self.hidden2 = nn.Linear(hidden1, hidden2)\n",
    "        self.hidden3 = nn.Linear(hidden2, hidden3)\n",
    "        self.hidden4 = nn.Linear(hidden3, hidden4)\n",
    "        self.output = nn.Linear(hidden4, output_size)\n",
    "        self.sigmoid = nn.Sigmoid()\n",
    "        self.loss = nn.BCELoss()\n",
    "        self.historial = []\n",
    "\n",
    "    def feed_forward(self, X):\n",
    "        x = self.hidden1(X)\n",
    "        x = self.sigmoid(x)\n",
    "        x = self.hidden2(x)\n",
    "        x = self.sigmoid(x)\n",
    "        x = self.hidden3(x)\n",
    "        x = self.sigmoid(x)\n",
    "        x = self.hidden4(x)\n",
    "        x = self.output(x)\n",
    "        x = self.sigmoid(x)\n",
    "        return x\n",
    "\n",
    "    def back_propagate(self, X, Y):\n",
    "        outputs = self.feed_forward(X)\n",
    "        error = self.loss(outputs, Y)\n",
    "        self.zero_grad()\n",
    "        error.backward()\n",
    "\n",
    "    def track_progress(self, error):\n",
    "        self.historial.append(error.item())\n",
    "\n",
    "    def train(self, train_X, train_Y, optimizer, ciclos=10000):\n",
    "        for i in range(ciclos):\n",
    "            self.back_propagate(train_X, train_Y)\n",
    "            optimizer.step()\n",
    "            outputs = self.feed_forward(train_X)\n",
    "            error = self.loss(outputs, train_Y)\n",
    "            self.track_progress(error)\n",
    "\n",
    "    def confusion(self, test_X, test_Y):\n",
    "        with torch.no_grad():\n",
    "            predictions = self.feed_forward(test_X)\n",
    "            for i in range(len(predictions)):\n",
    "                if predictions[i] <= 0.5:\n",
    "                    predictions[i] = 0\n",
    "                else:\n",
    "                    predictions[i] = 1\n",
    "\n",
    "        num_classes = 2\n",
    "        confusion_matrix_result = [[0, 0], [0, 0]]\n",
    "\n",
    "        for i in range(len(test_Y)):\n",
    "            true_label = test_Y[i]\n",
    "            pred = predictions[i]\n",
    "\n",
    "            if true_label == pred:\n",
    "                if pred == 1:\n",
    "                    confusion_matrix_result[0][0] += 1\n",
    "                else:\n",
    "                    confusion_matrix_result[1][1] += 1\n",
    "            else:\n",
    "                if true_label == 1:\n",
    "                    confusion_matrix_result[1][0] += 1\n",
    "                else:\n",
    "                    confusion_matrix_result[0][1] += 1\n",
    "\n",
    "        return confusion_matrix_result"
   ]
  },
  {
   "cell_type": "code",
   "execution_count": 23,
   "metadata": {},
   "outputs": [],
   "source": [
    "# Leer el archivo CSV\n",
    "df1 = pd.read_csv('df_sim.csv')\n",
    "df2 = pd.read_csv('df_sim2.csv')\n",
    "df3 = pd.read_csv('df_sim3.csv')\n",
    "df4 = pd.read_csv('df_sim4.csv')\n",
    "df5 = pd.read_csv('df_sim5.csv')\n",
    "df6 = pd.read_csv('df_sim6.csv')\n",
    "df7 = pd.read_csv('df_sim7.csv')\n",
    "df8 = pd.read_csv('df_sim8.csv')\n",
    "df9 = pd.read_csv('df_sim9.csv')\n",
    "df10 = pd.read_csv('df_sim10.csv')\n",
    "\n",
    "df = pd.concat([df1, df2, df3, df4, df5, df6, df7, df8, df9, df10], ignore_index=True)\n",
    "df = df.drop('HIVtreat', axis=1)\n"
   ]
  },
  {
   "cell_type": "code",
   "execution_count": 24,
   "metadata": {},
   "outputs": [],
   "source": [
    "# 'sex' a one-hot\n",
    "sex_columna = df[['sex']]\n",
    "# Crear un codificador OneHotEncoder\n",
    "encoder = OneHotEncoder()\n",
    "# Ajustar el codificador a los datos y transformar la columna\n",
    "sex_one_hot = encoder.fit_transform(sex_columna)\n",
    "# Convertir la matriz de one-hot en un DataFrame\n",
    "sex_one_hot_df = pd.DataFrame(sex_one_hot.toarray(), columns=encoder.get_feature_names_out(['sex']))\n",
    "# Concatenar el DataFrame original con el DataFrame de one-hot\n",
    "df_one_hot = pd.concat([df, sex_one_hot_df], axis=1)\n",
    "# Imprimir el DataFrame resultante\n",
    "df_one_hot.drop(['sex'], axis=1, inplace=True)\n",
    "\n",
    "# 'age' a one-hot\n",
    "age_columna = df[['age']]\n",
    "# Crear un codificador OneHotEncoder\n",
    "encoder = OneHotEncoder()\n",
    "# Ajustar el codificador a los datos y transformar la columna\n",
    "age_one_hot = encoder.fit_transform(age_columna)\n",
    "# Convertir la matriz de one-hot en un DataFrame\n",
    "age_one_hot_df = pd.DataFrame(age_one_hot.toarray(), columns=encoder.get_feature_names_out(['age']))\n",
    "# Concatenar el DataFrame original con el DataFrame de one-hot\n",
    "df_one_hot = pd.concat([df_one_hot, age_one_hot_df], axis=1)\n",
    "# Imprimir el DataFrame resultante\n",
    "df_one_hot.drop(['age'], axis=1, inplace=True)\n",
    "\n",
    "# 'level of education' a one-hot\n",
    "level_of_education_columna = df[['level of education']]\n",
    "# Crear un codificador OneHotEncoder\n",
    "encoder = OneHotEncoder()\n",
    "# Ajustar el codificador a los datos y transformar la columna\n",
    "level_of_education_one_hot = encoder.fit_transform(level_of_education_columna)\n",
    "# Convertir la matriz de one-hot en un DataFrame\n",
    "level_of_education_one_hot_df = pd.DataFrame(level_of_education_one_hot.toarray(), columns=encoder.get_feature_names_out(['level of education']))\n",
    "# Concatenar el DataFrame original con el DataFrame de one-hot\n",
    "df_one_hot = pd.concat([df_one_hot, level_of_education_one_hot_df], axis=1)\n",
    "# Imprimir el DataFrame resultante\n",
    "df_one_hot.drop(['level of education'], axis=1, inplace=True)"
   ]
  },
  {
   "cell_type": "code",
   "execution_count": 25,
   "metadata": {},
   "outputs": [
    {
     "name": "stdout",
     "output_type": "stream",
     "text": [
      "Forma de X_train: (37376, 26)\n",
      "Forma de X_test: (9344, 26)\n",
      "Forma de y_train: (37376,)\n",
      "Forma de y_test: (9344,)\n"
     ]
    }
   ],
   "source": [
    "# Supongamos que tu DataFrame en one-hot se llama df_one_hot y la columna de la clase se llama 'clase'\n",
    "X = df_one_hot.drop('HSV-2 infection', axis=1)  # Características (variables independientes)\n",
    "y = df_one_hot['HSV-2 infection']  # Variable objetivo (clase)\n",
    "\n",
    "# Dividir el conjunto de datos en entrenamiento y prueba manteniendo la proporción de clases\n",
    "sss = StratifiedShuffleSplit(n_splits=1, test_size=0.2)\n",
    "for train_index, test_index in sss.split(X, y):\n",
    "    X_train, X_test = X.iloc[train_index], X.iloc[test_index]\n",
    "    Y_train, Y_test = y.iloc[train_index], y.iloc[test_index]\n",
    "\n",
    "# Imprimir las formas de los conjuntos de entrenamiento y prueba\n",
    "print(\"Forma de X_train:\", X_train.shape)\n",
    "print(\"Forma de X_test:\", X_test.shape)\n",
    "print(\"Forma de y_train:\", Y_train.shape)\n",
    "print(\"Forma de y_test:\", Y_test.shape)"
   ]
  },
  {
   "cell_type": "code",
   "execution_count": 26,
   "metadata": {},
   "outputs": [
    {
     "name": "stdout",
     "output_type": "stream",
     "text": [
      "Forma de X_train_balanceado: (5024, 26)\n",
      "Forma de X_test: (41696, 26)\n",
      "Forma de y_train_balanceado: (5024,)\n",
      "Forma de y_test: (41696,)\n",
      "(9344, 26)\n"
     ]
    }
   ],
   "source": [
    "# Concatenar X_train e y_train para facilitar el remuestreo\n",
    "train_data = pd.concat([X_train, Y_train], axis=1)\n",
    "\n",
    "# Separar los datos de cada clase\n",
    "clase_positiva = train_data[train_data['HSV-2 infection'] == 1]\n",
    "clase_negativa = train_data[train_data['HSV-2 infection'] == 0]\n",
    "\n",
    "# Igualar el número de ejemplos para cada clase en el conjunto de entrenamiento\n",
    "n_muestras = int(min(len(clase_positiva), len(clase_negativa)))\n",
    "clase_positiva_muestreada = resample(clase_positiva, replace=False, n_samples=len(clase_positiva), random_state=42)\n",
    "clase_negativa_muestreada = resample(clase_negativa, replace=False, n_samples=n_muestras, random_state=42)\n",
    "\n",
    "# Concatenar los datos de las dos clases muestreadas\n",
    "train_data_balanceado = pd.concat([clase_positiva_muestreada, clase_negativa_muestreada])\n",
    "\n",
    "# Separar características y etiquetas nuevamente\n",
    "X_train_balanceado = train_data_balanceado.drop('HSV-2 infection', axis=1)\n",
    "Y_train_balanceado = train_data_balanceado['HSV-2 infection']\n",
    "\n",
    "# Encontrar los índices de los ejemplos que no se usaron en el conjunto de entrenamiento balanceado\n",
    "indices_no_balanceados = train_data.index.difference(train_data_balanceado.index)\n",
    "\n",
    "# Pasar los ejemplos restantes al conjunto de prueba\n",
    "X_test_sin = np.copy(X_test)\n",
    "Y_test_sin = np.copy(Y_test)\n",
    "X_test = X_test.append(X_train.loc[indices_no_balanceados])\n",
    "Y_test = Y_test.append(Y_train.loc[indices_no_balanceados])\n",
    "\n",
    "# Eliminar los ejemplos restantes del conjunto de entrenamiento original\n",
    "X_train = X_train.drop(indices_no_balanceados)\n",
    "Y_train = Y_train.drop(indices_no_balanceados)\n",
    "\n",
    "# Imprimir las formas de los conjuntos de entrenamiento y prueba balanceados\n",
    "print(\"Forma de X_train_balanceado:\", X_train.shape)\n",
    "print(\"Forma de X_test:\", X_test.shape)\n",
    "print(\"Forma de y_train_balanceado:\", Y_train.shape)\n",
    "print(\"Forma de y_test:\", Y_test.shape)\n",
    "print(X_test_sin.shape)"
   ]
  },
  {
   "cell_type": "code",
   "execution_count": 27,
   "metadata": {},
   "outputs": [
    {
     "data": {
      "text/plain": [
       "'\\nmax_samples = max(pd.Series(Y_train).value_counts())\\n\\nprint(np.unique(Y_train))\\n\\nfor label in np.unique(Y_train):\\n    label_indices = np.where(Y_train == label)[0]\\n    while len(label_indices) < max_samples:\\n        label_indices = np.concatenate((label_indices, np.random.choice(label_indices, max_samples - len(label_indices))))\\n    np.random.shuffle(label_indices)\\n    if label == np.unique(Y_train)[0]:\\n        train_indices = label_indices\\n    else:\\n        train_indices = np.concatenate((train_indices, label_indices))\\n\\nX_train = X_train.iloc[train_indices]\\nY_train = Y_train.iloc[train_indices]\\n\\nprint(\"Forma de X_train:\", X_train.shape)\\nprint(\"Forma de X_test:\", X_test.shape)\\nprint(\"Forma de y_train:\", Y_train.shape)\\nprint(\"Forma de y_test:\", Y_test.shape)\\n'"
      ]
     },
     "execution_count": 27,
     "metadata": {},
     "output_type": "execute_result"
    }
   ],
   "source": [
    "'''\n",
    "max_samples = max(pd.Series(Y_train).value_counts())\n",
    "\n",
    "print(np.unique(Y_train))\n",
    "\n",
    "for label in np.unique(Y_train):\n",
    "    label_indices = np.where(Y_train == label)[0]\n",
    "    while len(label_indices) < max_samples:\n",
    "        label_indices = np.concatenate((label_indices, np.random.choice(label_indices, max_samples - len(label_indices))))\n",
    "    np.random.shuffle(label_indices)\n",
    "    if label == np.unique(Y_train)[0]:\n",
    "        train_indices = label_indices\n",
    "    else:\n",
    "        train_indices = np.concatenate((train_indices, label_indices))\n",
    "\n",
    "X_train = X_train.iloc[train_indices]\n",
    "Y_train = Y_train.iloc[train_indices]\n",
    "\n",
    "print(\"Forma de X_train:\", X_train.shape)\n",
    "print(\"Forma de X_test:\", X_test.shape)\n",
    "print(\"Forma de y_train:\", Y_train.shape)\n",
    "print(\"Forma de y_test:\", Y_test.shape)\n",
    "'''\n"
   ]
  },
  {
   "cell_type": "code",
   "execution_count": 28,
   "metadata": {},
   "outputs": [],
   "source": [
    "# Convertir los DataFrames de pandas a matrices numpy\n",
    "X_train = X_train.to_numpy()\n",
    "Y_train = Y_train.to_numpy()\n",
    "\n",
    "X_test = X_test.to_numpy()\n",
    "Y_test = Y_test.to_numpy()"
   ]
  },
  {
   "cell_type": "code",
   "execution_count": 29,
   "metadata": {},
   "outputs": [],
   "source": [
    "# Convertir las matrices numpy a tensores de PyTorch\n",
    "X_train = torch.tensor(X_train, dtype=torch.float32)\n",
    "Y_train = torch.tensor(Y_train, dtype=torch.float32)\n",
    "\n",
    "X_test = torch.tensor(X_test, dtype=torch.float32)\n",
    "Y_test = torch.tensor(Y_test, dtype=torch.float32)\n",
    "\n",
    "# Convertir arrays numpy a tensores PyTorch\n",
    "X_test_sin = torch.tensor(X_test_sin, dtype=torch.float32)\n",
    "Y_test_sin = torch.tensor(Y_test_sin, dtype=torch.float32)\n",
    "\n",
    "# Clonar y desvincular si es necesario (esto es opcional y depende del uso)\n",
    "X_test_sin = X_test_sin.clone().detach().float()\n",
    "Y_test_sin = Y_test_sin.clone().detach().float()"
   ]
  },
  {
   "cell_type": "code",
   "execution_count": 30,
   "metadata": {},
   "outputs": [
    {
     "name": "stdout",
     "output_type": "stream",
     "text": [
      "RedMulticapa(\n",
      "  (hidden1): Linear(in_features=26, out_features=20, bias=True)\n",
      "  (hidden2): Linear(in_features=20, out_features=15, bias=True)\n",
      "  (hidden3): Linear(in_features=15, out_features=10, bias=True)\n",
      "  (hidden4): Linear(in_features=10, out_features=5, bias=True)\n",
      "  (output): Linear(in_features=5, out_features=1, bias=True)\n",
      "  (sigmoid): Sigmoid()\n",
      "  (loss): BCELoss()\n",
      ")\n"
     ]
    }
   ],
   "source": [
    "input_size = 26\n",
    "hidden1 = 20\n",
    "hidden2 = 15\n",
    "hidden3= 10\n",
    "hidden4= 5\n",
    "output_size = 1\n",
    "\n",
    "'''\n",
    "input_size = 26\n",
    "hidden1 = 52\n",
    "hidden2 = 60  \n",
    "hidden3= 70\n",
    "hidden4= 40\n",
    "hidden5 = 26\n",
    "output_size = 2\n",
    "'''\n",
    "\n",
    "modelo2 = RedMulticapa(input_size, hidden1, hidden2, hidden3, hidden4, output_size)\n",
    "#modelo2.load_state_dict(torch.load('modelo_entrenado_BCE.pth'))\n",
    "print(modelo2)\n",
    "optimizer = Adam(modelo2.parameters(), lr=0.01)\n",
    "modelo2.train(X_train, Y_train.unsqueeze(1), optimizer, ciclos=20000)"
   ]
  },
  {
   "cell_type": "code",
   "execution_count": 31,
   "metadata": {},
   "outputs": [],
   "source": [
    "optimizer = Adam(modelo2.parameters(), lr=0.001)\n",
    "modelo2.train(X_train, Y_train.unsqueeze(1), optimizer, ciclos=10000)"
   ]
  },
  {
   "cell_type": "code",
   "execution_count": 32,
   "metadata": {},
   "outputs": [],
   "source": [
    "#optimizer = Adam(modelo2.parameters())\n",
    "#modelo2.train(X_train, Y_train.unsqueeze(1), optimizer, ciclos=5000)"
   ]
  },
  {
   "cell_type": "code",
   "execution_count": 35,
   "metadata": {},
   "outputs": [
    {
     "name": "stdout",
     "output_type": "stream",
     "text": [
      "VP Entrenamiento:  2426\n",
      "VN Entrenamiento:  2394\n",
      "FP Entrenamiento:  118\n",
      "FN Entrenamiento:  86\n",
      "VP Prueba:  500\n",
      "VN Prueba:  32316\n",
      "FP Prueba:  8752\n",
      "FN Prueba:  128\n",
      "VP Prueba sin extras:  500\n",
      "VN Prueba sin extras:  6885\n",
      "FP Prueba sin extras:  1831\n",
      "FN Prueba sin extras:  128\n",
      "Matriz de confusión con Adam\n"
     ]
    }
   ],
   "source": [
    "Confusion = np.copy(np.array(modelo2.confusion(X_train, Y_train)))\n",
    "print(\"VP Entrenamiento: \", Confusion[0][0])\n",
    "print(\"VN Entrenamiento: \", Confusion[1][1])\n",
    "print(\"FP Entrenamiento: \", Confusion[0][1])\n",
    "print(\"FN Entrenamiento: \", Confusion[1][0])\n",
    "\n",
    "Confusion = np.copy(np.array(modelo2.confusion(X_test, Y_test)))\n",
    "print(\"VP Prueba: \", Confusion[0][0])\n",
    "print(\"VN Prueba: \", Confusion[1][1])\n",
    "print(\"FP Prueba: \", Confusion[0][1])\n",
    "print(\"FN Prueba: \", Confusion[1][0])\n",
    "\n",
    "Confusion = np.copy(np.array(modelo2.confusion(X_test_sin, Y_test_sin)))\n",
    "print(\"VP Prueba sin extras: \", Confusion[0][0])\n",
    "print(\"VN Prueba sin extras: \", Confusion[1][1])\n",
    "print(\"FP Prueba sin extras: \", Confusion[0][1])\n",
    "print(\"FN Prueba sin extras: \", Confusion[1][0])\n",
    "\n",
    "print(\"Matriz de confusión con Adam\")"
   ]
  },
  {
   "cell_type": "code",
   "execution_count": 36,
   "metadata": {},
   "outputs": [
    {
     "data": {
      "image/png": "[encoded data removed]",
      "text/plain": [
       "<Figure size 432x288 with 1 Axes>"
      ]
     },
     "metadata": {
      "needs_background": "light"
     },
     "output_type": "display_data"
    }
   ],
   "source": [
    "plt.plot(modelo2.historial)\n",
    "plt.ylim(0,1)\n",
    "plt.show()"
   ]
  },
  {
   "cell_type": "code",
   "execution_count": null,
   "metadata": {},
   "outputs": [],
   "source": [
    "#torch.save(modelo2.state_dict(), 'modelo_entrenado_BCE_sim.pth')\n",
    "#np.save('historialmodelo2_sim.npy', modelo2.historial)"
   ]
  },
  {
   "cell_type": "code",
   "execution_count": 42,
   "metadata": {},
   "outputs": [],
   "source": [
    "# Leer el archivo CSV\n",
    "df = pd.read_csv('dfCowanDuflo.csv')\n",
    "# df = pd.read_csv('df_sim.csv')\n",
    "\n",
    "# 'sex' a one-hot\n",
    "sex_columna = df[['sex']]\n",
    "# Crear un codificador OneHotEncoder\n",
    "encoder = OneHotEncoder()\n",
    "# Ajustar el codificador a los datos y transformar la columna\n",
    "sex_one_hot = encoder.fit_transform(sex_columna)\n",
    "# Convertir la matriz de one-hot en un DataFrame\n",
    "sex_one_hot_df = pd.DataFrame(sex_one_hot.toarray(), columns=encoder.get_feature_names_out(['sex']))\n",
    "# Concatenar el DataFrame original con el DataFrame de one-hot\n",
    "df_one_hot = pd.concat([df, sex_one_hot_df], axis=1)\n",
    "# Imprimir el DataFrame resultante\n",
    "df_one_hot.drop(['sex'], axis=1, inplace=True)\n",
    "\n",
    "# 'age' a one-hot\n",
    "age_columna = df[['age']]\n",
    "# Crear un codificador OneHotEncoder\n",
    "encoder = OneHotEncoder()\n",
    "# Ajustar el codificador a los datos y transformar la columna\n",
    "age_one_hot = encoder.fit_transform(age_columna)\n",
    "# Convertir la matriz de one-hot en un DataFrame\n",
    "age_one_hot_df = pd.DataFrame(age_one_hot.toarray(), columns=encoder.get_feature_names_out(['age']))\n",
    "# Concatenar el DataFrame original con el DataFrame de one-hot\n",
    "df_one_hot = pd.concat([df_one_hot, age_one_hot_df], axis=1)\n",
    "# Imprimir el DataFrame resultante\n",
    "df_one_hot.drop(['age'], axis=1, inplace=True)\n",
    "\n",
    "# 'level of education' a one-hot\n",
    "level_of_education_columna = df[['level of education']]\n",
    "# Crear un codificador OneHotEncoder\n",
    "encoder = OneHotEncoder()\n",
    "# Ajustar el codificador a los datos y transformar la columna\n",
    "level_of_education_one_hot = encoder.fit_transform(level_of_education_columna)\n",
    "# Convertir la matriz de one-hot en un DataFrame\n",
    "level_of_education_one_hot_df = pd.DataFrame(level_of_education_one_hot.toarray(), columns=encoder.get_feature_names_out(['level of education']))\n",
    "# Concatenar el DataFrame original con el DataFrame de one-hot\n",
    "df_one_hot = pd.concat([df_one_hot, level_of_education_one_hot_df], axis=1)\n",
    "# Imprimir el DataFrame resultante\n",
    "df_one_hot.drop(['level of education'], axis=1, inplace=True)\n",
    "\n",
    "\n",
    "X = df_one_hot.drop('HSV-2 infection', axis=1)  # Características (variables independientes)\n",
    "y = df_one_hot['HSV-2 infection']  # Variable objetivo (clase)\n",
    "X = X.to_numpy()\n",
    "Y = y.to_numpy()\n",
    "X = torch.tensor(X, dtype=torch.float32)\n",
    "Y = torch.tensor(Y, dtype=torch.float32)\n"
   ]
  },
  {
   "cell_type": "code",
   "execution_count": 43,
   "metadata": {},
   "outputs": [
    {
     "name": "stdout",
     "output_type": "stream",
     "text": [
      "VP:  298\n",
      "VN:  2363\n",
      "FP:  2650\n",
      "FN:  220\n"
     ]
    }
   ],
   "source": [
    "Confusion = np.copy(np.array(modelo2.confusion(X, Y)))\n",
    "print(\"VP: \", Confusion[0][0])\n",
    "print(\"VN: \", Confusion[1][1])\n",
    "print(\"FP: \", Confusion[0][1])\n",
    "print(\"FN: \", Confusion[1][0])"
   ]
  }
 ],
 "metadata": {
  "kernelspec": {
   "display_name": "Python 3",
   "language": "python",
   "name": "python3"
  },
  "language_info": {
   "codemirror_mode": {
    "name": "ipython",
    "version": 3
   },
   "file_extension": ".py",
   "mimetype": "text/x-python",
   "name": "python",
   "nbconvert_exporter": "python",
   "pygments_lexer": "ipython3",
   "version": "3.9.1"
  }
 },
 "nbformat": 4,
 "nbformat_minor": 2
}
