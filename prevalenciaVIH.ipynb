{
 "cells": [
  {
   "cell_type": "code",
   "execution_count": 1,
   "metadata": {},
   "outputs": [],
   "source": [
    "import torch\n",
    "import torch.nn as nn\n",
    "import torch.optim as optim\n",
    "import numpy as np\n",
    "import random\n",
    "import pandas as pd\n",
    "from sklearn.model_selection import train_test_split, StratifiedShuffleSplit\n",
    "from sklearn.preprocessing import StandardScaler\n",
    "from sklearn.preprocessing import OneHotEncoder\n",
    "import matplotlib.pyplot as plt\n",
    "from torch.optim import Adam"
   ]
  },
  {
   "cell_type": "code",
   "execution_count": 2,
   "metadata": {},
   "outputs": [],
   "source": [
    "class RedMulticapa(nn.Module):\n",
    "    def __init__(self, input_size, hidden1, hidden2, hidden3, hidden4, hidden5, output_size):\n",
    "        super(RedMulticapa, self).__init__()\n",
    "        self.hidden1 = nn.Linear(input_size, hidden1)\n",
    "        self.hidden2 = nn.Linear(hidden1, hidden2)\n",
    "        self.hidden3 = nn.Linear(hidden2, hidden3)\n",
    "        self.hidden4 = nn.Linear(hidden3, hidden4)\n",
    "        self.hidden5 = nn.Linear(hidden4, hidden5)\n",
    "        self.output = nn.Linear(hidden5, output_size)\n",
    "        self.sigmoid = nn.Sigmoid()\n",
    "        self.loss = nn.CrossEntropyLoss()\n",
    "        self.historial = []\n",
    "\n",
    "    def feed_forward(self, X):\n",
    "        x = self.hidden1(X)\n",
    "        x = self.sigmoid(x)\n",
    "        x = self.hidden2(x)\n",
    "        x = self.sigmoid(x)\n",
    "        x = self.hidden3(x)\n",
    "        x = self.sigmoid(x)\n",
    "        x = self.hidden4(x)\n",
    "        x = self.sigmoid(x)\n",
    "        x = self.hidden5(x)\n",
    "        x = self.output(x)\n",
    "        return x\n",
    "\n",
    "    def back_propagate(self, X, Y):\n",
    "        outputs = self.feed_forward(X)\n",
    "        error = self.loss(outputs, Y)\n",
    "        self.zero_grad()\n",
    "        error.backward()\n",
    "\n",
    "    def track_progress(self, error):\n",
    "        self.historial.append(error.item())\n",
    "\n",
    "    def train(self, train_X, train_Y, optimizer, ciclos=30000):\n",
    "        for i in range(ciclos):\n",
    "            self.back_propagate(train_X, train_Y)\n",
    "            optimizer.step()\n",
    "            outputs = self.feed_forward(train_X)\n",
    "            error = self.loss(outputs, train_Y)\n",
    "            self.track_progress(error)\n",
    "\n",
    "    def confusion(self, test_X, test_Y):\n",
    "        with torch.no_grad():\n",
    "            predictions = torch.argmax(self.feed_forward(test_X), dim=1)\n",
    "\n",
    "        num_classes = 2\n",
    "        confusion_matrix_result = [[0, 0], [0, 0]]\n",
    "\n",
    "        for i in range(len(test_Y)):\n",
    "            true_label = test_Y[i]\n",
    "            pred = predictions[i]\n",
    "\n",
    "            if true_label == pred:\n",
    "                if pred == 1:\n",
    "                    confusion_matrix_result[0][0] += 1\n",
    "                else:\n",
    "                    confusion_matrix_result[1][1] += 1\n",
    "            else:\n",
    "                if true_label == 1:\n",
    "                    confusion_matrix_result[1][0] += 1\n",
    "                else:\n",
    "                    confusion_matrix_result[0][1] += 1\n",
    "\n",
    "        return confusion_matrix_result"
   ]
  },
  {
   "cell_type": "code",
   "execution_count": null,
   "metadata": {},
   "outputs": [],
   "source": [
    "# Leer el archivo CSV\n",
    "df = pd.read_csv('dfCowanDuflo.csv')\n",
    "# df = pd.read_csv('df_sim.csv')"
   ]
  },
  {
   "cell_type": "code",
   "execution_count": 3,
   "metadata": {},
   "outputs": [
    {
     "name": "stdout",
     "output_type": "stream",
     "text": [
      "      ever married  HIV acquisition  HIV-testing self-efficacy  \\\n",
      "0                0                1                          1   \n",
      "1                1                1                          1   \n",
      "2                0                1                          1   \n",
      "3                0                1                          1   \n",
      "4                1                1                          1   \n",
      "...            ...              ...                        ...   \n",
      "5673             0                1                          1   \n",
      "5674             0                1                          1   \n",
      "5675             1                1                          1   \n",
      "5676             0                1                          1   \n",
      "5677             0                1                          0   \n",
      "\n",
      "      Condom self-efficacy  Control around sexual partners  \\\n",
      "0                        1                               1   \n",
      "1                        1                               1   \n",
      "2                        1                               1   \n",
      "3                        0                               1   \n",
      "4                        1                               0   \n",
      "...                    ...                             ...   \n",
      "5673                     1                               0   \n",
      "5674                     1                               1   \n",
      "5675                     1                               1   \n",
      "5676                     1                               1   \n",
      "5677                     1                               0   \n",
      "\n",
      "      Safe sex and condoms  Ever had sex  Two or more lifetime partners  \\\n",
      "0                        1             1                              1   \n",
      "1                        1             1                              1   \n",
      "2                        1             1                              0   \n",
      "3                        1             1                              1   \n",
      "4                        1             1                              1   \n",
      "...                    ...           ...                            ...   \n",
      "5673                     1             1                              0   \n",
      "5674                     1             1                              1   \n",
      "5675                     1             1                              1   \n",
      "5676                     1             1                              1   \n",
      "5677                     0             1                              1   \n",
      "\n",
      "      Sexual debut 17 or younger  Two or more partners in last 12m  ...  \\\n",
      "0                              0                                 1  ...   \n",
      "1                              0                                 0  ...   \n",
      "2                              1                                 0  ...   \n",
      "3                              1                                 0  ...   \n",
      "4                              1                                 1  ...   \n",
      "...                          ...                               ...  ...   \n",
      "5673                           1                                 0  ...   \n",
      "5674                           1                                 0  ...   \n",
      "5675                           0                                 0  ...   \n",
      "5676                           1                                 0  ...   \n",
      "5677                           1                                 0  ...   \n",
      "\n",
      "      HIV infection  HSV-2 infection  sex_1  sex_2  age_18  age_19-20  \\\n",
      "0                 0                0    1.0    0.0     1.0        0.0   \n",
      "1                 0                0    1.0    0.0     1.0        0.0   \n",
      "2                 0                0    1.0    0.0     1.0        0.0   \n",
      "3                 0                0    0.0    1.0     1.0        0.0   \n",
      "4                 0                0    1.0    0.0     1.0        0.0   \n",
      "...             ...              ...    ...    ...     ...        ...   \n",
      "5673              0                0    1.0    0.0     1.0        0.0   \n",
      "5674              0                0    0.0    1.0     1.0        0.0   \n",
      "5675              0                0    0.0    1.0     1.0        0.0   \n",
      "5676              0                0    0.0    1.0     1.0        0.0   \n",
      "5677              0                0    1.0    0.0     1.0        0.0   \n",
      "\n",
      "      age_21-22  level of education_F1-F2  level of education_F3-F4  \\\n",
      "0           0.0                       0.0                       1.0   \n",
      "1           0.0                       0.0                       1.0   \n",
      "2           0.0                       0.0                       1.0   \n",
      "3           0.0                       0.0                       1.0   \n",
      "4           0.0                       0.0                       1.0   \n",
      "...         ...                       ...                       ...   \n",
      "5673        0.0                       0.0                       1.0   \n",
      "5674        0.0                       1.0                       0.0   \n",
      "5675        0.0                       0.0                       1.0   \n",
      "5676        0.0                       1.0                       0.0   \n",
      "5677        0.0                       0.0                       1.0   \n",
      "\n",
      "      level of education_None or primary  \n",
      "0                                    0.0  \n",
      "1                                    0.0  \n",
      "2                                    0.0  \n",
      "3                                    0.0  \n",
      "4                                    0.0  \n",
      "...                                  ...  \n",
      "5673                                 0.0  \n",
      "5674                                 0.0  \n",
      "5675                                 0.0  \n",
      "5676                                 0.0  \n",
      "5677                                 0.0  \n",
      "\n",
      "[5678 rows x 27 columns]\n"
     ]
    }
   ],
   "source": [
    "# 'sex' a one-hot\n",
    "sex_columna = df[['sex']]\n",
    "# Crear un codificador OneHotEncoder\n",
    "encoder = OneHotEncoder()\n",
    "# Ajustar el codificador a los datos y transformar la columna\n",
    "sex_one_hot = encoder.fit_transform(sex_columna)\n",
    "# Convertir la matriz de one-hot en un DataFrame\n",
    "sex_one_hot_df = pd.DataFrame(sex_one_hot.toarray(), columns=encoder.get_feature_names_out(['sex']))\n",
    "# Concatenar el DataFrame original con el DataFrame de one-hot\n",
    "df_one_hot = pd.concat([df, sex_one_hot_df], axis=1)\n",
    "# Imprimir el DataFrame resultante\n",
    "df_one_hot.drop(['sex'], axis=1, inplace=True)\n",
    "\n",
    "# 'age' a one-hot\n",
    "age_columna = df[['age']]\n",
    "# Crear un codificador OneHotEncoder\n",
    "encoder = OneHotEncoder()\n",
    "# Ajustar el codificador a los datos y transformar la columna\n",
    "age_one_hot = encoder.fit_transform(age_columna)\n",
    "# Convertir la matriz de one-hot en un DataFrame\n",
    "age_one_hot_df = pd.DataFrame(age_one_hot.toarray(), columns=encoder.get_feature_names_out(['age']))\n",
    "# Concatenar el DataFrame original con el DataFrame de one-hot\n",
    "df_one_hot = pd.concat([df_one_hot, age_one_hot_df], axis=1)\n",
    "# Imprimir el DataFrame resultante\n",
    "df_one_hot.drop(['age'], axis=1, inplace=True)\n",
    "\n",
    "# 'level of education' a one-hot\n",
    "level_of_education_columna = df[['level of education']]\n",
    "# Crear un codificador OneHotEncoder\n",
    "encoder = OneHotEncoder()\n",
    "# Ajustar el codificador a los datos y transformar la columna\n",
    "level_of_education_one_hot = encoder.fit_transform(level_of_education_columna)\n",
    "# Convertir la matriz de one-hot en un DataFrame\n",
    "level_of_education_one_hot_df = pd.DataFrame(level_of_education_one_hot.toarray(), columns=encoder.get_feature_names_out(['level of education']))\n",
    "# Concatenar el DataFrame original con el DataFrame de one-hot\n",
    "df_one_hot = pd.concat([df_one_hot, level_of_education_one_hot_df], axis=1)\n",
    "# Imprimir el DataFrame resultante\n",
    "df_one_hot.drop(['level of education'], axis=1, inplace=True)\n",
    "print(df_one_hot)\n",
    "\n"
   ]
  },
  {
   "cell_type": "code",
   "execution_count": 4,
   "metadata": {},
   "outputs": [
    {
     "name": "stdout",
     "output_type": "stream",
     "text": [
      "Forma de X_train: (4542, 26)\n",
      "Forma de X_test: (1136, 26)\n",
      "Forma de y_train: (4542,)\n",
      "Forma de y_test: (1136,)\n"
     ]
    }
   ],
   "source": [
    "# Supongamos que tu DataFrame en one-hot se llama df_one_hot y la columna de la clase se llama 'clase'\n",
    "X = df_one_hot.drop('HSV-2 infection', axis=1)  # Características (variables independientes)\n",
    "y = df_one_hot['HSV-2 infection']  # Variable objetivo (clase)\n",
    "\n",
    "# Dividir el conjunto de datos en entrenamiento y prueba manteniendo la proporción de clases\n",
    "sss = StratifiedShuffleSplit(n_splits=1, test_size=0.2)\n",
    "for train_index, test_index in sss.split(X, y):\n",
    "    X_train, X_test = X.iloc[train_index], X.iloc[test_index]\n",
    "    Y_train, Y_test = y.iloc[train_index], y.iloc[test_index]\n",
    "\n",
    "# Imprimir las formas de los conjuntos de entrenamiento y prueba\n",
    "print(\"Forma de X_train:\", X_train.shape)\n",
    "print(\"Forma de X_test:\", X_test.shape)\n",
    "print(\"Forma de y_train:\", Y_train.shape)\n",
    "print(\"Forma de y_test:\", Y_test.shape)"
   ]
  },
  {
   "cell_type": "code",
   "execution_count": 5,
   "metadata": {},
   "outputs": [
    {
     "name": "stdout",
     "output_type": "stream",
     "text": [
      "[0 1]\n",
      "Forma de X_train: (8256, 26)\n",
      "Forma de X_test: (1136, 26)\n",
      "Forma de y_train: (8256,)\n",
      "Forma de y_test: (1136,)\n"
     ]
    }
   ],
   "source": [
    "max_samples = max(pd.Series(Y_train).value_counts())\n",
    "\n",
    "print(np.unique(Y_train))\n",
    "\n",
    "for label in np.unique(Y_train):\n",
    "    label_indices = np.where(Y_train == label)[0]\n",
    "    while len(label_indices) < max_samples:\n",
    "        label_indices = np.concatenate((label_indices, np.random.choice(label_indices, max_samples - len(label_indices))))\n",
    "    np.random.shuffle(label_indices)\n",
    "    if label == np.unique(Y_train)[0]:\n",
    "        train_indices = label_indices\n",
    "    else:\n",
    "        train_indices = np.concatenate((train_indices, label_indices))\n",
    "\n",
    "X_train = X_train.iloc[train_indices]\n",
    "Y_train = Y_train.iloc[train_indices]\n",
    "\n",
    "print(\"Forma de X_train:\", X_train.shape)\n",
    "print(\"Forma de X_test:\", X_test.shape)\n",
    "print(\"Forma de y_train:\", Y_train.shape)\n",
    "print(\"Forma de y_test:\", Y_test.shape)\n"
   ]
  },
  {
   "cell_type": "code",
   "execution_count": 6,
   "metadata": {},
   "outputs": [],
   "source": [
    "# Convertir los DataFrames de pandas a matrices numpy\n",
    "X_train = X_train.to_numpy()\n",
    "Y_train = Y_train.to_numpy()\n",
    "\n",
    "X_test = X_test.to_numpy()\n",
    "Y_test = Y_test.to_numpy()"
   ]
  },
  {
   "cell_type": "code",
   "execution_count": 7,
   "metadata": {},
   "outputs": [],
   "source": [
    "# Convertir las matrices numpy a tensores de PyTorch\n",
    "X_train = torch.tensor(X_train, dtype=torch.float32)\n",
    "Y_train = torch.tensor(Y_train, dtype=torch.long)\n",
    "\n",
    "X_test = torch.tensor(X_test, dtype=torch.float32)\n",
    "Y_test = torch.tensor(Y_test, dtype=torch.long)"
   ]
  },
  {
   "cell_type": "code",
   "execution_count": 14,
   "metadata": {},
   "outputs": [
    {
     "name": "stdout",
     "output_type": "stream",
     "text": [
      "RedMulticapa(\n",
      "  (hidden1): Linear(in_features=26, out_features=60, bias=True)\n",
      "  (hidden2): Linear(in_features=60, out_features=80, bias=True)\n",
      "  (hidden3): Linear(in_features=80, out_features=90, bias=True)\n",
      "  (hidden4): Linear(in_features=90, out_features=80, bias=True)\n",
      "  (hidden5): Linear(in_features=80, out_features=60, bias=True)\n",
      "  (output): Linear(in_features=60, out_features=2, bias=True)\n",
      "  (sigmoid): Sigmoid()\n",
      "  (loss): CrossEntropyLoss()\n",
      ")\n"
     ]
    }
   ],
   "source": [
    "input_size = 26\n",
    "hidden1 = 60\n",
    "hidden2 = 80  \n",
    "hidden3= 90\n",
    "hidden4= 80\n",
    "hidden5 = 60\n",
    "output_size = 2\n",
    "\n",
    "'''\n",
    "input_size = 26\n",
    "hidden1 = 52\n",
    "hidden2 = 60  \n",
    "hidden3= 70\n",
    "hidden4= 40\n",
    "hidden5 = 26\n",
    "output_size = 2\n",
    "'''\n",
    "\n",
    "modelo2 = RedMulticapa(input_size, hidden1, hidden2, hidden3, hidden4, hidden5, output_size)\n",
    "#modelo2.load_state_dict(torch.load('pesos_red.pth'))\n",
    "print(modelo2)\n",
    "optimizer = Adam(modelo2.parameters(), lr=0.001)\n",
    "modelo2.train(X_train, Y_train, optimizer)"
   ]
  },
  {
   "cell_type": "code",
   "execution_count": 11,
   "metadata": {},
   "outputs": [],
   "source": [
    "optimizer = Adam(modelo2.parameters(), lr=0.0001)\n",
    "modelo2.train(X_train, Y_train, optimizer)"
   ]
  },
  {
   "cell_type": "code",
   "execution_count": 15,
   "metadata": {},
   "outputs": [
    {
     "name": "stdout",
     "output_type": "stream",
     "text": [
      "VP Entrenamiento:  2606\n",
      "VN Entrenamiento:  3349\n",
      "FP Entrenamiento:  779\n",
      "FN Entrenamiento:  1522\n",
      "VP Prueba:  35\n",
      "VN Prueba:  828\n",
      "FP Prueba:  204\n",
      "FN Prueba:  69\n",
      "Matriz de confusión con Adam\n"
     ]
    }
   ],
   "source": [
    "Confusion = np.copy(np.array(modelo2.confusion(X_train, Y_train)))\n",
    "print(\"VP Entrenamiento: \", Confusion[0][0])\n",
    "print(\"VN Entrenamiento: \", Confusion[1][1])\n",
    "print(\"FP Entrenamiento: \", Confusion[0][1])\n",
    "print(\"FN Entrenamiento: \", Confusion[1][0])\n",
    "\n",
    "Confusion = np.copy(np.array(modelo2.confusion(X_test, Y_test)))\n",
    "print(\"VP Prueba: \", Confusion[0][0])\n",
    "print(\"VN Prueba: \", Confusion[1][1])\n",
    "print(\"FP Prueba: \", Confusion[0][1])\n",
    "print(\"FN Prueba: \", Confusion[1][0])\n",
    "\n",
    "print(\"Matriz de confusión con Adam\")"
   ]
  },
  {
   "cell_type": "code",
   "execution_count": 16,
   "metadata": {},
   "outputs": [
    {
     "data": {
      "text/plain": [
       "[<matplotlib.lines.Line2D at 0x2757d12d340>]"
      ]
     },
     "execution_count": 16,
     "metadata": {},
     "output_type": "execute_result"
    },
    {
     "data": {
      "image/png": "[encoded data removed]",
      "text/plain": [
       "<Figure size 432x288 with 1 Axes>"
      ]
     },
     "metadata": {
      "needs_background": "light"
     },
     "output_type": "display_data"
    }
   ],
   "source": [
    "plt.plot(modelo2.historial)"
   ]
  }
 ],
 "metadata": {
  "kernelspec": {
   "display_name": "Python 3",
   "language": "python",
   "name": "python3"
  },
  "language_info": {
   "codemirror_mode": {
    "name": "ipython",
    "version": 3
   },
   "file_extension": ".py",
   "mimetype": "text/x-python",
   "name": "python",
   "nbconvert_exporter": "python",
   "pygments_lexer": "ipython3",
   "version": "3.9.1"
  }
 },
 "nbformat": 4,
 "nbformat_minor": 2
}
